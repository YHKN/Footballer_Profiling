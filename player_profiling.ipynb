{
 "cells": [
  {
   "cell_type": "code",
   "execution_count": 1,
   "metadata": {
    "collapsed": true
   },
   "outputs": [],
   "source": [
    "import pandas as pd\n",
    "import json\n",
    "\n",
    "import footballer_profiling_functions as fpf"
   ]
  },
  {
   "cell_type": "code",
   "execution_count": 138,
   "outputs": [],
   "source": [
    "# run this cell to edit columns used in program\n",
    "\n",
    "#positional_columns=[\"Touches_Def_Pen_pTouch\",\"Touches_Def_3rd_pTouch\",\"Touches_Mid_3rd_pTouch\",\"Touches_Att_3rd_pTouch\",\"Touches_Att_Pen_pTouch\"]\n",
    "#defensive_positional_columns=[\"Tkl_Def_3rd_pTkl\",\"Tkl_Mid_3rd_pTkl\",\"Tkl_Att_3rd_pTkl\"]\n",
    "#shooting_type_columns=[\"Dist\",\"npxG/Sh\"]   # to scale with Sh_pT\n",
    "#attacking_pass_types_columns=[\"xAG_pKP\",\"xA_pCPass\",\"KP_pCPass\",\"Pass_Att3rd_pCPass\",\"PPA_pCPass\",\"Prog_Pass_pCPass\",\"Switch_pPass\",\"Crs_pPass\",\"SCA_LivePass_pPass\"]   # to scale with Pass_Att_pTouch\n",
    "#pass_type_columns=[\"Pass_Total_Dist_pCPass\",\"Pass_Prg_Dist%\",\"Pass_Short_Att_pPass\",\"Pass_Medium_Att_pPass\",\"Pass_Long_Att_pPass\"]   # to scale with Pass_Att_pTouch\n",
    "#defense_type_columns=[\"SCA_Def_pDefAct\",\"Tackles_pDefAct\",\"Tkl_vsDrib_pDefAct\",\"Blocks_pDefAct\",\"BlocksSh_pBlock\",\"BlocksPass_pBlock\",\"Int_pDefAct\",\"Clr_pDefAct\",\"Fls_pDefAct\"]   # to scale with Def_Actions_p90a\n",
    "#carrying_type_columns=[\"Carries_Total_Dist_pCar\",\"Carries_Prg_Dist%\",\"Carries_Prg_pCar\",\"Carries_Att3rd_pCar\",\"CPA_pCar\",\"Pass_Rec_p90a\",\"Prog_Pass_Rec_pRec\",\"Fld_pTouch\",\"Recov_p90\"]    # to scale with Carries_pTouch\n",
    "#weighted_player_type_columns=shooting_type_columns+attacking_pass_types_columns+pass_type_columns+defense_type_columns+carrying_type_columns+[\"SCA_TO_pTO\",\"Aerial Duels_p90\"]  # player type columns to be weighted\n",
    "#player_type_columns=weighted_player_type_columns+[\"Sh_pT\",\"Pass_Att_pTouch\",\"Take-Ons_Att_pTouch\",\"Carries_pTouch\"]   # all player type columns to use\n",
    "#player_type_columns_weights_columns=[\"Sh_pT\",\"Pass_Att_pTouch\",\"Touches_p90a\",\"Def_Actions_p90a\",\"Take-Ons_Att_pTouch\",\"Carries_pTouch\"]    # weights to be used\n",
    "#player_type_columns_complete = weighted_player_type_columns+player_type_columns_weights_columns    # all player type columns used to normalize or standardize\n",
    "#player_quality_columns = [\"SoT%\",\"npxG/Sh\",\"np:G-xG\",\"Pass_Cmp%\",\"Pass_Short_Cmp%\",\"Pass_Medium_Cmp%\",\"Pass_Long_Cmp%\",\"xAG_p90a\",\"xA_p90a\",\"KP_p90a\",\"Pass_Att3rd_p90a\",\"PPA_p90a\",\"Cmp_Crs_PA_pCrs\",\"SCA_LivePass_p90a\",\"SCA_TO_p90a\",\"SCA_Def_p90a\",\"TklW%\",\"Tkl_vsDrib%\",\"Blocks_p90a\",\"Int_p90a\",\"Clr_p90a\",\"Take-Ons_Succ%\",\"Take-Ons_Tkld%\",\"Pass_Rec_p90a\",\"Fls_p90a\",\"Fld_p90a\",\"Recov_p90\",\"Aerial DuelsWon%\"]\n",
    "\n",
    "# saves columns to be used use into file columns_dict.json\n",
    "#cols_dict = {'positional':positional_columns,'defensive_positional':defensive_positional_columns,'shooting':shooting_type_columns,'attacking_pass':attacking_pass_types_columns,'passing':pass_type_columns,'defense':defense_type_columns,'carrying':carrying_type_columns,'weighted_type':weighted_player_type_columns,'player_type':player_type_columns,'weights':player_type_columns_weights_columns,'player_quality':player_quality_columns}\n",
    "#with open(\"columns_dict.json\", \"w\") as fp:\n",
    "#    json.dump(cols_dict, fp)"
   ],
   "metadata": {
    "collapsed": false,
    "pycharm": {
     "name": "#%%\n"
    }
   }
  },
  {
   "cell_type": "code",
   "execution_count": null,
   "outputs": [],
   "source": [
    "season = 2022"
   ],
   "metadata": {
    "collapsed": false,
    "pycharm": {
     "name": "#%%\n"
    }
   }
  },
  {
   "cell_type": "code",
   "execution_count": 2,
   "outputs": [],
   "source": [
    "# run this cell to set up new player type clusters\n",
    "\n",
    "#fpf.setup_clusters(season, 20)"
   ],
   "metadata": {
    "collapsed": false,
    "pycharm": {
     "name": "#%%\n"
    }
   }
  },
  {
   "cell_type": "code",
   "execution_count": 10,
   "outputs": [],
   "source": [
    "# run this cell to edit player types names\n",
    "\n",
    "#names = {\"DLF\":\"Deep Lying Forward\", \"ANC\":\"Anchor Man\", \"NND\":\"No-nonsense Defender\", \"SWE\":\"Sweeper (Libero)\", \"BW\":\"Ball Winner\", \"AD\":\"Aerial Defender\", \"FIN\":\"Finisher\", \"BPD\":\"Ball Playing Defender\", \"WB\":\"Wing Back\", \"APM\":\"Advanced Playmaker\", \"CFW\":\"Complete Forward\", \"LB\":\"Long Ball\", \"B2B\":\"Box-to-Box Player\", \"WPM\":\"Wide Playmaker\", \"W\":\"Winger\", \"DFW\":\"Defensive Forward\", \"DPM\":\"Defensive Playmaker\", \"SWI\":\"Switcher\", \"DM\":\"Defensive Midfielder\", \"TM\":\"Target Man\"}\n",
    "#with open(\"player_type_names.json\", \"w\") as fp:\n",
    "#    json.dump(names,fp)"
   ],
   "metadata": {
    "collapsed": false,
    "pycharm": {
     "name": "#%%\n"
    }
   }
  },
  {
   "cell_type": "code",
   "execution_count": 2,
   "outputs": [
    {
     "name": "stdout",
     "output_type": "stream",
     "text": [
      "Loading data.\n"
     ]
    },
    {
     "name": "stderr",
     "output_type": "stream",
     "text": [
      "C:\\Users\\mail4\\Desktop\\Uni\\9. Semester\\Bachelorarbeit\\footballer_profiling_functions.py:438: SettingWithCopyWarning: \n",
      "A value is trying to be set on a copy of a slice from a DataFrame.\n",
      "Try using .loc[row_indexer,col_indexer] = value instead\n",
      "\n",
      "See the caveats in the documentation: https://pandas.pydata.org/pandas-docs/stable/user_guide/indexing.html#returning-a-view-versus-a-copy\n",
      "  player_quality_df.loc[:, \"Fls_p90a\"] = player_quality_df.loc[:, \"Fls_p90a\"] * -1\n",
      "C:\\Users\\mail4\\Desktop\\Uni\\9. Semester\\Bachelorarbeit\\footballer_profiling_functions.py:441: SettingWithCopyWarning: \n",
      "A value is trying to be set on a copy of a slice from a DataFrame.\n",
      "Try using .loc[row_indexer,col_indexer] = value instead\n",
      "\n",
      "See the caveats in the documentation: https://pandas.pydata.org/pandas-docs/stable/user_guide/indexing.html#returning-a-view-versus-a-copy\n",
      "  df[\"Fls_pDefAct\"] = df[\"Fls_pDefAct\"] * -1\n",
      "C:\\Users\\mail4\\Desktop\\Uni\\9. Semester\\Bachelorarbeit\\footballer_profiling_functions.py:446: SettingWithCopyWarning: \n",
      "A value is trying to be set on a copy of a slice from a DataFrame.\n",
      "Try using .loc[row_indexer,col_indexer] = value instead\n",
      "\n",
      "See the caveats in the documentation: https://pandas.pydata.org/pandas-docs/stable/user_guide/indexing.html#returning-a-view-versus-a-copy\n",
      "  df[column] = df[column] * weights[\"Sh_pT\"]\n",
      "C:\\Users\\mail4\\Desktop\\Uni\\9. Semester\\Bachelorarbeit\\footballer_profiling_functions.py:448: SettingWithCopyWarning: \n",
      "A value is trying to be set on a copy of a slice from a DataFrame.\n",
      "Try using .loc[row_indexer,col_indexer] = value instead\n",
      "\n",
      "See the caveats in the documentation: https://pandas.pydata.org/pandas-docs/stable/user_guide/indexing.html#returning-a-view-versus-a-copy\n",
      "  df[column] = df[column] * weights[\"Pass_Att_pTouch\"]\n",
      "C:\\Users\\mail4\\Desktop\\Uni\\9. Semester\\Bachelorarbeit\\footballer_profiling_functions.py:450: SettingWithCopyWarning: \n",
      "A value is trying to be set on a copy of a slice from a DataFrame.\n",
      "Try using .loc[row_indexer,col_indexer] = value instead\n",
      "\n",
      "See the caveats in the documentation: https://pandas.pydata.org/pandas-docs/stable/user_guide/indexing.html#returning-a-view-versus-a-copy\n",
      "  df[column] = df[column] * weights[\"Def_Actions_p90a\"]\n",
      "C:\\Users\\mail4\\Desktop\\Uni\\9. Semester\\Bachelorarbeit\\footballer_profiling_functions.py:451: SettingWithCopyWarning: \n",
      "A value is trying to be set on a copy of a slice from a DataFrame.\n",
      "Try using .loc[row_indexer,col_indexer] = value instead\n",
      "\n",
      "See the caveats in the documentation: https://pandas.pydata.org/pandas-docs/stable/user_guide/indexing.html#returning-a-view-versus-a-copy\n",
      "  df[\"SCA_Drib_pDrib\"] = df[\"SCA_Drib_pDrib\"] * weights[\"Dribbles_Att_pTouch\"]\n",
      "C:\\Users\\mail4\\Desktop\\Uni\\9. Semester\\Bachelorarbeit\\footballer_profiling_functions.py:453: SettingWithCopyWarning: \n",
      "A value is trying to be set on a copy of a slice from a DataFrame.\n",
      "Try using .loc[row_indexer,col_indexer] = value instead\n",
      "\n",
      "See the caveats in the documentation: https://pandas.pydata.org/pandas-docs/stable/user_guide/indexing.html#returning-a-view-versus-a-copy\n",
      "  df[column] = df[column] * weights[\"Touches_p90a\"]\n"
     ]
    },
    {
     "name": "stdout",
     "output_type": "stream",
     "text": [
      "Calculating Player Fitness.\n",
      "Calculating Player Quality\n",
      "Getting Market Values.\n",
      "Setup Completed.\n"
     ]
    }
   ],
   "source": [
    "# run this cell to set up data to scout players\n",
    "\n",
    "fpf.setup_current_season(season)"
   ],
   "metadata": {
    "collapsed": false,
    "pycharm": {
     "name": "#%%\n"
    }
   }
  },
  {
   "cell_type": "code",
   "execution_count": 3,
   "outputs": [
    {
     "data": {
      "text/plain": "                 Player    Pos          Squad            Comp  Age   90s  \\\n0      Brenden Aaronson  MF,FW   Leeds United  Premier League   22  15.1   \n1      Yunis Abdelhamid     DF          Reims         Ligue 1   35  16.0   \n2     Salis Abdul Samed     MF           Lens         Ligue 1   22  16.0   \n3       Laurent Abergel     MF        Lorient         Ligue 1   29   9.8   \n4     Zakaria Aboukhlal  FW,MF       Toulouse         Ligue 1   22  13.2   \n...                 ...    ...            ...             ...  ...   ...   \n1316         Kurt Zouma     DF       West Ham  Premier League   28  13.2   \n1317      Igor Zubeldia     DF  Real Sociedad         La Liga   25   9.0   \n1318   Martín Zubimendi     MF  Real Sociedad         La Liga   23  13.8   \n1319    Martin Ødegaard     MF        Arsenal  Premier League   24  13.9   \n1320      Filip Đuričić  MF,FW      Sampdoria         Serie A   30  11.2   \n\n        Quality    Fit_DLF   Qual_DLF    Fit_ANC  ...   Qual_DFW    Fit_DPM  \\\n0     35.707405  71.380869  31.001772  62.924460  ...  32.614923  49.641174   \n1     46.393656  44.284021  41.174671  53.789657  ...  43.836072  52.236882   \n2     47.335222  46.506901  47.653178  73.070279  ...  46.068398  77.159318   \n3     47.659381  56.961222  34.757404  71.239209  ...  37.727712  74.376601   \n4     21.422511  67.208439  22.651265  73.232642  ...  21.823013  53.301192   \n...         ...        ...        ...        ...  ...        ...        ...   \n1316  38.482317  20.140687  21.109498  44.081507  ...  21.919829  34.005931   \n1317  38.977631  24.835606  51.478229  50.700258  ...  48.941074  40.956295   \n1318  44.108682  51.003060  41.723551  63.092761  ...  41.751131  65.619419   \n1319  60.549959  61.495022  44.180113  50.946458  ...  45.221260  44.511129   \n1320  41.663648  77.368510  40.677756  58.824511  ...  38.591745  52.135804   \n\n       Qual_DPM    Fit_SWI   Qual_SWI     Fit_DM    Qual_DM     Fit_TM  \\\n0     38.084274  29.939612  33.538657  56.215753  31.025855  76.415271   \n1     43.810860  54.381540  42.881869  64.833006  50.461169  46.246476   \n2     46.299459  34.734410  48.726085  77.841301  46.025082  56.014123   \n3     49.433413  46.773279  44.602214  80.794956  46.195697  59.169309   \n4     17.549579  28.173673  17.567288  61.645892  18.967843  80.533983   \n...         ...        ...        ...        ...        ...        ...   \n1316  19.512441  26.095251  22.201466  43.366608  25.999039  30.974601   \n1317  29.496854  24.578235  37.410424  49.777296  37.788440  36.836827   \n1318  38.656817  47.803066  40.188402  75.021218  42.059776  56.325565   \n1319  66.928994  29.781111  59.921045  44.517674  51.110077  60.620214   \n1320  40.750229  42.205596  43.281148  59.403460  37.698447  72.266180   \n\n        Qual_TM  Value  \n0     27.138237    1.0  \n1     42.436434    1.0  \n2     49.397653    1.0  \n3     31.852066    1.0  \n4     20.393433    1.0  \n...         ...    ...  \n1316  34.406633    1.0  \n1317  56.392997    1.0  \n1318  51.267573    1.0  \n1319  38.980946    1.0  \n1320  40.308009    1.0  \n\n[1321 rows x 48 columns]",
      "text/html": "<div>\n<style scoped>\n    .dataframe tbody tr th:only-of-type {\n        vertical-align: middle;\n    }\n\n    .dataframe tbody tr th {\n        vertical-align: top;\n    }\n\n    .dataframe thead th {\n        text-align: right;\n    }\n</style>\n<table border=\"1\" class=\"dataframe\">\n  <thead>\n    <tr style=\"text-align: right;\">\n      <th></th>\n      <th>Player</th>\n      <th>Pos</th>\n      <th>Squad</th>\n      <th>Comp</th>\n      <th>Age</th>\n      <th>90s</th>\n      <th>Quality</th>\n      <th>Fit_DLF</th>\n      <th>Qual_DLF</th>\n      <th>Fit_ANC</th>\n      <th>...</th>\n      <th>Qual_DFW</th>\n      <th>Fit_DPM</th>\n      <th>Qual_DPM</th>\n      <th>Fit_SWI</th>\n      <th>Qual_SWI</th>\n      <th>Fit_DM</th>\n      <th>Qual_DM</th>\n      <th>Fit_TM</th>\n      <th>Qual_TM</th>\n      <th>Value</th>\n    </tr>\n  </thead>\n  <tbody>\n    <tr>\n      <th>0</th>\n      <td>Brenden Aaronson</td>\n      <td>MF,FW</td>\n      <td>Leeds United</td>\n      <td>Premier League</td>\n      <td>22</td>\n      <td>15.1</td>\n      <td>35.707405</td>\n      <td>71.380869</td>\n      <td>31.001772</td>\n      <td>62.924460</td>\n      <td>...</td>\n      <td>32.614923</td>\n      <td>49.641174</td>\n      <td>38.084274</td>\n      <td>29.939612</td>\n      <td>33.538657</td>\n      <td>56.215753</td>\n      <td>31.025855</td>\n      <td>76.415271</td>\n      <td>27.138237</td>\n      <td>1.0</td>\n    </tr>\n    <tr>\n      <th>1</th>\n      <td>Yunis Abdelhamid</td>\n      <td>DF</td>\n      <td>Reims</td>\n      <td>Ligue 1</td>\n      <td>35</td>\n      <td>16.0</td>\n      <td>46.393656</td>\n      <td>44.284021</td>\n      <td>41.174671</td>\n      <td>53.789657</td>\n      <td>...</td>\n      <td>43.836072</td>\n      <td>52.236882</td>\n      <td>43.810860</td>\n      <td>54.381540</td>\n      <td>42.881869</td>\n      <td>64.833006</td>\n      <td>50.461169</td>\n      <td>46.246476</td>\n      <td>42.436434</td>\n      <td>1.0</td>\n    </tr>\n    <tr>\n      <th>2</th>\n      <td>Salis Abdul Samed</td>\n      <td>MF</td>\n      <td>Lens</td>\n      <td>Ligue 1</td>\n      <td>22</td>\n      <td>16.0</td>\n      <td>47.335222</td>\n      <td>46.506901</td>\n      <td>47.653178</td>\n      <td>73.070279</td>\n      <td>...</td>\n      <td>46.068398</td>\n      <td>77.159318</td>\n      <td>46.299459</td>\n      <td>34.734410</td>\n      <td>48.726085</td>\n      <td>77.841301</td>\n      <td>46.025082</td>\n      <td>56.014123</td>\n      <td>49.397653</td>\n      <td>1.0</td>\n    </tr>\n    <tr>\n      <th>3</th>\n      <td>Laurent Abergel</td>\n      <td>MF</td>\n      <td>Lorient</td>\n      <td>Ligue 1</td>\n      <td>29</td>\n      <td>9.8</td>\n      <td>47.659381</td>\n      <td>56.961222</td>\n      <td>34.757404</td>\n      <td>71.239209</td>\n      <td>...</td>\n      <td>37.727712</td>\n      <td>74.376601</td>\n      <td>49.433413</td>\n      <td>46.773279</td>\n      <td>44.602214</td>\n      <td>80.794956</td>\n      <td>46.195697</td>\n      <td>59.169309</td>\n      <td>31.852066</td>\n      <td>1.0</td>\n    </tr>\n    <tr>\n      <th>4</th>\n      <td>Zakaria Aboukhlal</td>\n      <td>FW,MF</td>\n      <td>Toulouse</td>\n      <td>Ligue 1</td>\n      <td>22</td>\n      <td>13.2</td>\n      <td>21.422511</td>\n      <td>67.208439</td>\n      <td>22.651265</td>\n      <td>73.232642</td>\n      <td>...</td>\n      <td>21.823013</td>\n      <td>53.301192</td>\n      <td>17.549579</td>\n      <td>28.173673</td>\n      <td>17.567288</td>\n      <td>61.645892</td>\n      <td>18.967843</td>\n      <td>80.533983</td>\n      <td>20.393433</td>\n      <td>1.0</td>\n    </tr>\n    <tr>\n      <th>...</th>\n      <td>...</td>\n      <td>...</td>\n      <td>...</td>\n      <td>...</td>\n      <td>...</td>\n      <td>...</td>\n      <td>...</td>\n      <td>...</td>\n      <td>...</td>\n      <td>...</td>\n      <td>...</td>\n      <td>...</td>\n      <td>...</td>\n      <td>...</td>\n      <td>...</td>\n      <td>...</td>\n      <td>...</td>\n      <td>...</td>\n      <td>...</td>\n      <td>...</td>\n      <td>...</td>\n    </tr>\n    <tr>\n      <th>1316</th>\n      <td>Kurt Zouma</td>\n      <td>DF</td>\n      <td>West Ham</td>\n      <td>Premier League</td>\n      <td>28</td>\n      <td>13.2</td>\n      <td>38.482317</td>\n      <td>20.140687</td>\n      <td>21.109498</td>\n      <td>44.081507</td>\n      <td>...</td>\n      <td>21.919829</td>\n      <td>34.005931</td>\n      <td>19.512441</td>\n      <td>26.095251</td>\n      <td>22.201466</td>\n      <td>43.366608</td>\n      <td>25.999039</td>\n      <td>30.974601</td>\n      <td>34.406633</td>\n      <td>1.0</td>\n    </tr>\n    <tr>\n      <th>1317</th>\n      <td>Igor Zubeldia</td>\n      <td>DF</td>\n      <td>Real Sociedad</td>\n      <td>La Liga</td>\n      <td>25</td>\n      <td>9.0</td>\n      <td>38.977631</td>\n      <td>24.835606</td>\n      <td>51.478229</td>\n      <td>50.700258</td>\n      <td>...</td>\n      <td>48.941074</td>\n      <td>40.956295</td>\n      <td>29.496854</td>\n      <td>24.578235</td>\n      <td>37.410424</td>\n      <td>49.777296</td>\n      <td>37.788440</td>\n      <td>36.836827</td>\n      <td>56.392997</td>\n      <td>1.0</td>\n    </tr>\n    <tr>\n      <th>1318</th>\n      <td>Martín Zubimendi</td>\n      <td>MF</td>\n      <td>Real Sociedad</td>\n      <td>La Liga</td>\n      <td>23</td>\n      <td>13.8</td>\n      <td>44.108682</td>\n      <td>51.003060</td>\n      <td>41.723551</td>\n      <td>63.092761</td>\n      <td>...</td>\n      <td>41.751131</td>\n      <td>65.619419</td>\n      <td>38.656817</td>\n      <td>47.803066</td>\n      <td>40.188402</td>\n      <td>75.021218</td>\n      <td>42.059776</td>\n      <td>56.325565</td>\n      <td>51.267573</td>\n      <td>1.0</td>\n    </tr>\n    <tr>\n      <th>1319</th>\n      <td>Martin Ødegaard</td>\n      <td>MF</td>\n      <td>Arsenal</td>\n      <td>Premier League</td>\n      <td>24</td>\n      <td>13.9</td>\n      <td>60.549959</td>\n      <td>61.495022</td>\n      <td>44.180113</td>\n      <td>50.946458</td>\n      <td>...</td>\n      <td>45.221260</td>\n      <td>44.511129</td>\n      <td>66.928994</td>\n      <td>29.781111</td>\n      <td>59.921045</td>\n      <td>44.517674</td>\n      <td>51.110077</td>\n      <td>60.620214</td>\n      <td>38.980946</td>\n      <td>1.0</td>\n    </tr>\n    <tr>\n      <th>1320</th>\n      <td>Filip Đuričić</td>\n      <td>MF,FW</td>\n      <td>Sampdoria</td>\n      <td>Serie A</td>\n      <td>30</td>\n      <td>11.2</td>\n      <td>41.663648</td>\n      <td>77.368510</td>\n      <td>40.677756</td>\n      <td>58.824511</td>\n      <td>...</td>\n      <td>38.591745</td>\n      <td>52.135804</td>\n      <td>40.750229</td>\n      <td>42.205596</td>\n      <td>43.281148</td>\n      <td>59.403460</td>\n      <td>37.698447</td>\n      <td>72.266180</td>\n      <td>40.308009</td>\n      <td>1.0</td>\n    </tr>\n  </tbody>\n</table>\n<p>1321 rows × 48 columns</p>\n</div>"
     },
     "execution_count": 3,
     "metadata": {},
     "output_type": "execute_result"
    }
   ],
   "source": [
    "scouting = pd.read_csv(\"scouting.csv\")\n",
    "scouting"
   ],
   "metadata": {
    "collapsed": false,
    "pycharm": {
     "name": "#%%\n"
    }
   }
  },
  {
   "cell_type": "code",
   "execution_count": 4,
   "outputs": [
    {
     "data": {
      "text/plain": "               Player Pos           Squad  Age  Type Fitness  Type Quality  \\\n1225  Kieran Trippier  DF   Newcastle Utd   32      2.738795      8.023464   \n371     Íñigo Eguaras  MF         Almería   30      2.539739      6.986530   \n124   Ismaël Bennacer  MF           Milan   25      2.711785      6.952457   \n1062        Mário Rui  DF          Napoli   31      2.768514      6.540438   \n1202  Youri Tielemans  MF  Leicester City   25      2.929172      5.244615   \n...               ...  ..             ...  ...           ...           ...   \n306       Andy Delort  FW            Nice   31      2.949068     -8.311839   \n136              Beto  FW         Udinese   24      2.979575     -8.794609   \n1315     Simon Zoller  FW          Bochum   31      2.863657     -9.113328   \n928    Victor Osimhen  FW          Napoli   24      2.817859     -9.176021   \n316     Mattia Destro  FW          Empoli   31      2.811293     -9.353182   \n\n      Value  \n1225    1.0  \n371     1.0  \n124     1.0  \n1062    1.0  \n1202    1.0  \n...     ...  \n306     1.0  \n136     1.0  \n1315    1.0  \n928     1.0  \n316     1.0  \n\n[386 rows x 7 columns]",
      "text/html": "<div>\n<style scoped>\n    .dataframe tbody tr th:only-of-type {\n        vertical-align: middle;\n    }\n\n    .dataframe tbody tr th {\n        vertical-align: top;\n    }\n\n    .dataframe thead th {\n        text-align: right;\n    }\n</style>\n<table border=\"1\" class=\"dataframe\">\n  <thead>\n    <tr style=\"text-align: right;\">\n      <th></th>\n      <th>Player</th>\n      <th>Pos</th>\n      <th>Squad</th>\n      <th>Age</th>\n      <th>Type Fitness</th>\n      <th>Type Quality</th>\n      <th>Value</th>\n    </tr>\n  </thead>\n  <tbody>\n    <tr>\n      <th>1225</th>\n      <td>Kieran Trippier</td>\n      <td>DF</td>\n      <td>Newcastle Utd</td>\n      <td>32</td>\n      <td>2.738795</td>\n      <td>8.023464</td>\n      <td>1.0</td>\n    </tr>\n    <tr>\n      <th>371</th>\n      <td>Íñigo Eguaras</td>\n      <td>MF</td>\n      <td>Almería</td>\n      <td>30</td>\n      <td>2.539739</td>\n      <td>6.986530</td>\n      <td>1.0</td>\n    </tr>\n    <tr>\n      <th>124</th>\n      <td>Ismaël Bennacer</td>\n      <td>MF</td>\n      <td>Milan</td>\n      <td>25</td>\n      <td>2.711785</td>\n      <td>6.952457</td>\n      <td>1.0</td>\n    </tr>\n    <tr>\n      <th>1062</th>\n      <td>Mário Rui</td>\n      <td>DF</td>\n      <td>Napoli</td>\n      <td>31</td>\n      <td>2.768514</td>\n      <td>6.540438</td>\n      <td>1.0</td>\n    </tr>\n    <tr>\n      <th>1202</th>\n      <td>Youri Tielemans</td>\n      <td>MF</td>\n      <td>Leicester City</td>\n      <td>25</td>\n      <td>2.929172</td>\n      <td>5.244615</td>\n      <td>1.0</td>\n    </tr>\n    <tr>\n      <th>...</th>\n      <td>...</td>\n      <td>...</td>\n      <td>...</td>\n      <td>...</td>\n      <td>...</td>\n      <td>...</td>\n      <td>...</td>\n    </tr>\n    <tr>\n      <th>306</th>\n      <td>Andy Delort</td>\n      <td>FW</td>\n      <td>Nice</td>\n      <td>31</td>\n      <td>2.949068</td>\n      <td>-8.311839</td>\n      <td>1.0</td>\n    </tr>\n    <tr>\n      <th>136</th>\n      <td>Beto</td>\n      <td>FW</td>\n      <td>Udinese</td>\n      <td>24</td>\n      <td>2.979575</td>\n      <td>-8.794609</td>\n      <td>1.0</td>\n    </tr>\n    <tr>\n      <th>1315</th>\n      <td>Simon Zoller</td>\n      <td>FW</td>\n      <td>Bochum</td>\n      <td>31</td>\n      <td>2.863657</td>\n      <td>-9.113328</td>\n      <td>1.0</td>\n    </tr>\n    <tr>\n      <th>928</th>\n      <td>Victor Osimhen</td>\n      <td>FW</td>\n      <td>Napoli</td>\n      <td>24</td>\n      <td>2.817859</td>\n      <td>-9.176021</td>\n      <td>1.0</td>\n    </tr>\n    <tr>\n      <th>316</th>\n      <td>Mattia Destro</td>\n      <td>FW</td>\n      <td>Empoli</td>\n      <td>31</td>\n      <td>2.811293</td>\n      <td>-9.353182</td>\n      <td>1.0</td>\n    </tr>\n  </tbody>\n</table>\n<p>386 rows × 7 columns</p>\n</div>"
     },
     "execution_count": 4,
     "metadata": {},
     "output_type": "execute_result"
    }
   ],
   "source": [
    "fpf.scout_player_type(\"WB\",count=10000)"
   ],
   "metadata": {
    "collapsed": false,
    "pycharm": {
     "name": "#%%\n"
    }
   }
  },
  {
   "cell_type": "code",
   "execution_count": 34,
   "outputs": [
    {
     "data": {
      "text/plain": "             0         1         2         3         4         5         6  \\\n0     2.076023  3.226701  5.642765  4.454214  4.200238  6.020167  1.860616   \n1     4.041620  4.021708  2.234380  1.696442  2.544398  3.483094  5.176682   \n2     3.880373  2.343706  4.016865  2.881296  2.819382  4.835836  3.891724   \n3     3.122020  2.503065  3.904802  2.442165  2.028173  4.481077  3.772692   \n4     2.378690  2.329576  5.100057  3.974469  4.201654  5.143925  1.347597   \n...        ...       ...       ...       ...       ...       ...       ...   \n1316  5.792970  4.866612  1.958509  3.247049  4.990821  4.095776  6.148475   \n1317  5.452402  4.290579  1.479952  2.541185  4.522841  2.645650  5.736238   \n1318  3.554223  3.212054  3.331892  2.055669  2.016390  3.888220  4.324472   \n1319  2.793139  4.269153  6.305560  5.059569  4.393745  6.355069  3.049348   \n1320  1.641681  3.583522  5.343448  4.096228  3.451055  5.893994  2.626860   \n\n             7         8         9        10        11        12        13  \\\n0     6.032357  3.582021  2.462023  1.756450  6.170713  3.073307  3.364935   \n1     2.649957  2.835664  3.575145  4.930860  2.050224  2.958767  5.125156   \n2     3.523355  3.801992  2.739281  4.252981  4.841615  2.746661  5.435801   \n3     3.787539  2.746581  1.929933  3.672254  4.312582  2.095003  4.492362   \n4     5.453547  3.690203  2.553417  2.021177  5.805160  2.644638  4.089335   \n...        ...       ...       ...       ...       ...       ...       ...   \n1316  2.420606  4.921032  5.694431  6.480564  3.020977  4.427493  7.076800   \n1317  1.829401  4.308337  5.027118  5.953186  2.967438  3.777155  6.657172   \n1318  3.352749  2.925476  2.339150  4.096640  3.569146  2.563095  4.724005   \n1319  6.592121  3.692046  2.905660  1.779512  6.494116  3.812611  2.431312   \n1320  5.721117  2.999491  2.053914  1.694582  5.563722  2.982320  2.545951   \n\n            14        15        16        17        18        19  \n0     2.441337  1.708037  4.146860  5.109701  3.425648  1.935556  \n1     4.988933  4.212251  3.933113  3.327082  2.751441  4.411453  \n2     4.865183  3.089424  1.880844  4.760003  1.733681  3.609841  \n3     4.198579  2.752429  2.109990  3.881974  1.502589  3.350900  \n4     2.905676  1.312145  3.845471  5.238495  3.000798  1.597540  \n...        ...       ...       ...       ...       ...       ...  \n1316  6.360422  5.510361  5.434363  5.390081  4.430956  5.664788  \n1317  5.955866  5.057191  4.862027  5.500721  3.929389  5.183686  \n1318  4.722511  3.462587  2.831111  3.806869  1.954322  3.584281  \n1319  2.798267  3.143073  4.569300  5.121261  4.340898  3.231827  \n1320  2.452174  2.142520  3.941436  4.215108  3.176244  2.276064  \n\n[1321 rows x 20 columns]",
      "text/html": "<div>\n<style scoped>\n    .dataframe tbody tr th:only-of-type {\n        vertical-align: middle;\n    }\n\n    .dataframe tbody tr th {\n        vertical-align: top;\n    }\n\n    .dataframe thead th {\n        text-align: right;\n    }\n</style>\n<table border=\"1\" class=\"dataframe\">\n  <thead>\n    <tr style=\"text-align: right;\">\n      <th></th>\n      <th>0</th>\n      <th>1</th>\n      <th>2</th>\n      <th>3</th>\n      <th>4</th>\n      <th>5</th>\n      <th>6</th>\n      <th>7</th>\n      <th>8</th>\n      <th>9</th>\n      <th>10</th>\n      <th>11</th>\n      <th>12</th>\n      <th>13</th>\n      <th>14</th>\n      <th>15</th>\n      <th>16</th>\n      <th>17</th>\n      <th>18</th>\n      <th>19</th>\n    </tr>\n  </thead>\n  <tbody>\n    <tr>\n      <th>0</th>\n      <td>2.076023</td>\n      <td>3.226701</td>\n      <td>5.642765</td>\n      <td>4.454214</td>\n      <td>4.200238</td>\n      <td>6.020167</td>\n      <td>1.860616</td>\n      <td>6.032357</td>\n      <td>3.582021</td>\n      <td>2.462023</td>\n      <td>1.756450</td>\n      <td>6.170713</td>\n      <td>3.073307</td>\n      <td>3.364935</td>\n      <td>2.441337</td>\n      <td>1.708037</td>\n      <td>4.146860</td>\n      <td>5.109701</td>\n      <td>3.425648</td>\n      <td>1.935556</td>\n    </tr>\n    <tr>\n      <th>1</th>\n      <td>4.041620</td>\n      <td>4.021708</td>\n      <td>2.234380</td>\n      <td>1.696442</td>\n      <td>2.544398</td>\n      <td>3.483094</td>\n      <td>5.176682</td>\n      <td>2.649957</td>\n      <td>2.835664</td>\n      <td>3.575145</td>\n      <td>4.930860</td>\n      <td>2.050224</td>\n      <td>2.958767</td>\n      <td>5.125156</td>\n      <td>4.988933</td>\n      <td>4.212251</td>\n      <td>3.933113</td>\n      <td>3.327082</td>\n      <td>2.751441</td>\n      <td>4.411453</td>\n    </tr>\n    <tr>\n      <th>2</th>\n      <td>3.880373</td>\n      <td>2.343706</td>\n      <td>4.016865</td>\n      <td>2.881296</td>\n      <td>2.819382</td>\n      <td>4.835836</td>\n      <td>3.891724</td>\n      <td>3.523355</td>\n      <td>3.801992</td>\n      <td>2.739281</td>\n      <td>4.252981</td>\n      <td>4.841615</td>\n      <td>2.746661</td>\n      <td>5.435801</td>\n      <td>4.865183</td>\n      <td>3.089424</td>\n      <td>1.880844</td>\n      <td>4.760003</td>\n      <td>1.733681</td>\n      <td>3.609841</td>\n    </tr>\n    <tr>\n      <th>3</th>\n      <td>3.122020</td>\n      <td>2.503065</td>\n      <td>3.904802</td>\n      <td>2.442165</td>\n      <td>2.028173</td>\n      <td>4.481077</td>\n      <td>3.772692</td>\n      <td>3.787539</td>\n      <td>2.746581</td>\n      <td>1.929933</td>\n      <td>3.672254</td>\n      <td>4.312582</td>\n      <td>2.095003</td>\n      <td>4.492362</td>\n      <td>4.198579</td>\n      <td>2.752429</td>\n      <td>2.109990</td>\n      <td>3.881974</td>\n      <td>1.502589</td>\n      <td>3.350900</td>\n    </tr>\n    <tr>\n      <th>4</th>\n      <td>2.378690</td>\n      <td>2.329576</td>\n      <td>5.100057</td>\n      <td>3.974469</td>\n      <td>4.201654</td>\n      <td>5.143925</td>\n      <td>1.347597</td>\n      <td>5.453547</td>\n      <td>3.690203</td>\n      <td>2.553417</td>\n      <td>2.021177</td>\n      <td>5.805160</td>\n      <td>2.644638</td>\n      <td>4.089335</td>\n      <td>2.905676</td>\n      <td>1.312145</td>\n      <td>3.845471</td>\n      <td>5.238495</td>\n      <td>3.000798</td>\n      <td>1.597540</td>\n    </tr>\n    <tr>\n      <th>...</th>\n      <td>...</td>\n      <td>...</td>\n      <td>...</td>\n      <td>...</td>\n      <td>...</td>\n      <td>...</td>\n      <td>...</td>\n      <td>...</td>\n      <td>...</td>\n      <td>...</td>\n      <td>...</td>\n      <td>...</td>\n      <td>...</td>\n      <td>...</td>\n      <td>...</td>\n      <td>...</td>\n      <td>...</td>\n      <td>...</td>\n      <td>...</td>\n      <td>...</td>\n    </tr>\n    <tr>\n      <th>1316</th>\n      <td>5.792970</td>\n      <td>4.866612</td>\n      <td>1.958509</td>\n      <td>3.247049</td>\n      <td>4.990821</td>\n      <td>4.095776</td>\n      <td>6.148475</td>\n      <td>2.420606</td>\n      <td>4.921032</td>\n      <td>5.694431</td>\n      <td>6.480564</td>\n      <td>3.020977</td>\n      <td>4.427493</td>\n      <td>7.076800</td>\n      <td>6.360422</td>\n      <td>5.510361</td>\n      <td>5.434363</td>\n      <td>5.390081</td>\n      <td>4.430956</td>\n      <td>5.664788</td>\n    </tr>\n    <tr>\n      <th>1317</th>\n      <td>5.452402</td>\n      <td>4.290579</td>\n      <td>1.479952</td>\n      <td>2.541185</td>\n      <td>4.522841</td>\n      <td>2.645650</td>\n      <td>5.736238</td>\n      <td>1.829401</td>\n      <td>4.308337</td>\n      <td>5.027118</td>\n      <td>5.953186</td>\n      <td>2.967438</td>\n      <td>3.777155</td>\n      <td>6.657172</td>\n      <td>5.955866</td>\n      <td>5.057191</td>\n      <td>4.862027</td>\n      <td>5.500721</td>\n      <td>3.929389</td>\n      <td>5.183686</td>\n    </tr>\n    <tr>\n      <th>1318</th>\n      <td>3.554223</td>\n      <td>3.212054</td>\n      <td>3.331892</td>\n      <td>2.055669</td>\n      <td>2.016390</td>\n      <td>3.888220</td>\n      <td>4.324472</td>\n      <td>3.352749</td>\n      <td>2.925476</td>\n      <td>2.339150</td>\n      <td>4.096640</td>\n      <td>3.569146</td>\n      <td>2.563095</td>\n      <td>4.724005</td>\n      <td>4.722511</td>\n      <td>3.462587</td>\n      <td>2.831111</td>\n      <td>3.806869</td>\n      <td>1.954322</td>\n      <td>3.584281</td>\n    </tr>\n    <tr>\n      <th>1319</th>\n      <td>2.793139</td>\n      <td>4.269153</td>\n      <td>6.305560</td>\n      <td>5.059569</td>\n      <td>4.393745</td>\n      <td>6.355069</td>\n      <td>3.049348</td>\n      <td>6.592121</td>\n      <td>3.692046</td>\n      <td>2.905660</td>\n      <td>1.779512</td>\n      <td>6.494116</td>\n      <td>3.812611</td>\n      <td>2.431312</td>\n      <td>2.798267</td>\n      <td>3.143073</td>\n      <td>4.569300</td>\n      <td>5.121261</td>\n      <td>4.340898</td>\n      <td>3.231827</td>\n    </tr>\n    <tr>\n      <th>1320</th>\n      <td>1.641681</td>\n      <td>3.583522</td>\n      <td>5.343448</td>\n      <td>4.096228</td>\n      <td>3.451055</td>\n      <td>5.893994</td>\n      <td>2.626860</td>\n      <td>5.721117</td>\n      <td>2.999491</td>\n      <td>2.053914</td>\n      <td>1.694582</td>\n      <td>5.563722</td>\n      <td>2.982320</td>\n      <td>2.545951</td>\n      <td>2.452174</td>\n      <td>2.142520</td>\n      <td>3.941436</td>\n      <td>4.215108</td>\n      <td>3.176244</td>\n      <td>2.276064</td>\n    </tr>\n  </tbody>\n</table>\n<p>1321 rows × 20 columns</p>\n</div>"
     },
     "execution_count": 34,
     "metadata": {},
     "output_type": "execute_result"
    }
   ],
   "source": [
    "soft = pd.read_csv(\"soft_player_types.csv\")\n",
    "soft"
   ],
   "metadata": {
    "collapsed": false,
    "pycharm": {
     "name": "#%%\n"
    }
   }
  },
  {
   "cell_type": "code",
   "execution_count": 36,
   "outputs": [
    {
     "data": {
      "text/plain": "           0          1          2          3          4          5  \\\n0  83.685011  87.644862  86.570509  83.738942  81.698662  85.758196   \n1  53.163065  58.849015  52.412683  55.803087  50.584192  45.960103   \n2   0.000000   0.000000   0.000000   0.000000   0.000000   0.000000   \n\n           6          7          8          9         10         11  \\\n0  89.584884  86.419956  77.432457  84.204736  85.936733  86.874586   \n1  56.150375  51.507086  46.052164  55.635335  54.757335  47.593067   \n2   0.000000   0.000000   0.000000   0.000000   0.000000   0.000000   \n\n          12         13         14         15         16         17  \\\n0  87.239684  83.799835  85.312293  86.851067  82.284248  78.086915   \n1  58.291688  46.823066  49.156032  59.055512  52.481604  39.463052   \n2   0.000000   0.000000   0.000000   0.000000   0.000000   0.000000   \n\n          18         19  \n0  86.080531  90.189292  \n1  58.479091  56.947040  \n2   0.000000   0.000000  ",
      "text/html": "<div>\n<style scoped>\n    .dataframe tbody tr th:only-of-type {\n        vertical-align: middle;\n    }\n\n    .dataframe tbody tr th {\n        vertical-align: top;\n    }\n\n    .dataframe thead th {\n        text-align: right;\n    }\n</style>\n<table border=\"1\" class=\"dataframe\">\n  <thead>\n    <tr style=\"text-align: right;\">\n      <th></th>\n      <th>0</th>\n      <th>1</th>\n      <th>2</th>\n      <th>3</th>\n      <th>4</th>\n      <th>5</th>\n      <th>6</th>\n      <th>7</th>\n      <th>8</th>\n      <th>9</th>\n      <th>10</th>\n      <th>11</th>\n      <th>12</th>\n      <th>13</th>\n      <th>14</th>\n      <th>15</th>\n      <th>16</th>\n      <th>17</th>\n      <th>18</th>\n      <th>19</th>\n    </tr>\n  </thead>\n  <tbody>\n    <tr>\n      <th>0</th>\n      <td>83.685011</td>\n      <td>87.644862</td>\n      <td>86.570509</td>\n      <td>83.738942</td>\n      <td>81.698662</td>\n      <td>85.758196</td>\n      <td>89.584884</td>\n      <td>86.419956</td>\n      <td>77.432457</td>\n      <td>84.204736</td>\n      <td>85.936733</td>\n      <td>86.874586</td>\n      <td>87.239684</td>\n      <td>83.799835</td>\n      <td>85.312293</td>\n      <td>86.851067</td>\n      <td>82.284248</td>\n      <td>78.086915</td>\n      <td>86.080531</td>\n      <td>90.189292</td>\n    </tr>\n    <tr>\n      <th>1</th>\n      <td>53.163065</td>\n      <td>58.849015</td>\n      <td>52.412683</td>\n      <td>55.803087</td>\n      <td>50.584192</td>\n      <td>45.960103</td>\n      <td>56.150375</td>\n      <td>51.507086</td>\n      <td>46.052164</td>\n      <td>55.635335</td>\n      <td>54.757335</td>\n      <td>47.593067</td>\n      <td>58.291688</td>\n      <td>46.823066</td>\n      <td>49.156032</td>\n      <td>59.055512</td>\n      <td>52.481604</td>\n      <td>39.463052</td>\n      <td>58.479091</td>\n      <td>56.947040</td>\n    </tr>\n    <tr>\n      <th>2</th>\n      <td>0.000000</td>\n      <td>0.000000</td>\n      <td>0.000000</td>\n      <td>0.000000</td>\n      <td>0.000000</td>\n      <td>0.000000</td>\n      <td>0.000000</td>\n      <td>0.000000</td>\n      <td>0.000000</td>\n      <td>0.000000</td>\n      <td>0.000000</td>\n      <td>0.000000</td>\n      <td>0.000000</td>\n      <td>0.000000</td>\n      <td>0.000000</td>\n      <td>0.000000</td>\n      <td>0.000000</td>\n      <td>0.000000</td>\n      <td>0.000000</td>\n      <td>0.000000</td>\n    </tr>\n  </tbody>\n</table>\n</div>"
     },
     "execution_count": 36,
     "metadata": {},
     "output_type": "execute_result"
    }
   ],
   "source": [
    "pd.DataFrame([soft.max(),soft.mean(),soft.min()])"
   ],
   "metadata": {
    "collapsed": false,
    "pycharm": {
     "name": "#%%\n"
    }
   }
  },
  {
   "cell_type": "code",
   "execution_count": 39,
   "outputs": [
    {
     "data": {
      "text/plain": "212"
     },
     "execution_count": 39,
     "metadata": {},
     "output_type": "execute_result"
    }
   ],
   "source": [
    "temp = list((soft[soft > 70]).count(axis=1))\n",
    "lost = [i for i in range(len(temp)) if temp[i] < 1]\n",
    "len(lost)"
   ],
   "metadata": {
    "collapsed": false,
    "pycharm": {
     "name": "#%%\n"
    }
   }
  },
  {
   "cell_type": "code",
   "execution_count": 13,
   "outputs": [
    {
     "data": {
      "text/plain": "                     Player    Pos            Squad            Comp  Age  \\\n25               Nathan Aké     DF  Manchester City  Premier League   27   \n76           Ezequiel Ávila  FW,MF          Osasuna         La Liga   28   \n105             Musa Barrow  FW,MF          Bologna         Serie A   24   \n114         Sheraldo Becker     FW     Union Berlin      Bundesliga   27   \n115           Kevin Behrens     FW     Union Berlin      Bundesliga   31   \n133          Mergim Berisha     FW         Augsburg      Bundesliga   24   \n151      Federico Bonazzoli     FW      Salernitana         Serie A   25   \n185             Jimmy Cabot  DF,MF             Lens         Ligue 1   28   \n224                  Catena     DF   Rayo Vallecano         La Liga   28   \n297         Kevin De Bruyne     MF  Manchester City  Premier League   31   \n299         Rodrigo De Paul     MF  Atlético Madrid         La Liga   28   \n312   Branco van den Boomen     MF         Toulouse         Ligue 1   27   \n317         Gerard Deulofeu     FW          Udinese         Serie A   28   \n337        Federico Dimarco     DF            Inter         Serie A   25   \n409     Edimilson Fernandes     DF         Mainz 05      Bundesliga   26   \n412                Fernando  MF,DF          Sevilla         La Liga   35   \n468               Joe Gomez     DF        Liverpool  Premier League   25   \n472         Maxime Gonalons     MF    Clermont Foot         Ligue 1   33   \n532           Gauthier Hein  MF,FW          Auxerre         Ligue 1   26   \n579               Junya Ito     FW            Reims         Ligue 1   29   \n597               Paul Joly     DF          Auxerre         Ligue 1   22   \n613           Florian Kainz  FW,MF             Köln      Bundesliga   30   \n626           Rick Karsdorp     DF             Roma         Serie A   27   \n640          Joshua Kimmich     MF    Bayern Munich      Bundesliga   27   \n661            Jules Koundé     DF        Barcelona         La Liga   24   \n668              Toni Kroos     MF      Real Madrid         La Liga   32   \n686        Armand Lauriente     FW         Sassuolo         Serie A   24   \n764      Ruslan Malinovskyi  MF,FW         Atalanta         Serie A   29   \n770          Thomas Mangani     MF          Ajaccio         Ligue 1   35   \n828            Lionel Messi  MF,FW        Paris S-G         Ligue 1   35   \n853             Tobias Mohr  DF,MF       Schalke 04      Bundesliga   27   \n871           Thomas Müller  FW,MF    Bayern Munich      Bundesliga   33   \n875             Luis Muriel     FW         Atalanta         Serie A   31   \n892                  Neymar  MF,FW        Paris S-G         Ligue 1   30   \n933          Thomas Ouwejan     DF       Schalke 04      Bundesliga   26   \n947                  Patric     DF            Lazio         Serie A   29   \n986           Alassane Pléa     FW       M'Gladbach      Bundesliga   29   \n1012               Raphinha     FW        Barcelona         La Liga   26   \n1025          Samuele Ricci     MF           Torino         Serie A   21   \n1026            Declan Rice     MF         West Ham  Premier League   23   \n1064       Fabián Ruiz Peña     MF        Paris S-G         Ligue 1   26   \n1069        Marcel Sabitzer     MF    Bayern Munich      Bundesliga   28   \n1098          Téji Savanier     MF      Montpellier         Ligue 1   31   \n1146             Borna Sosa  DF,MF        Stuttgart      Bundesliga   24   \n1163            John Stones     DF  Manchester City  Premier League   28   \n1254         Marco Verratti     MF        Paris S-G         Ligue 1   30   \n1270            Kyle Walker     DF  Manchester City  Premier League   32   \n\n       90s     Fit_0    Qual_0     Fit_1     Qual_1  ...    Qual_15    Fit_16  \\\n25     8.3  6.089174  1.084225  4.200325   2.382201  ...   1.284192  3.479950   \n76    10.2  3.973528  0.412927  6.471474  -2.224797  ...  -0.693166  6.758802   \n105    7.6  3.362639 -1.286079  5.597003   0.631450  ...   0.085886  6.026778   \n114   11.7  5.125207 -5.737501  6.851407  -5.444755  ...  -6.563197  7.542930   \n115    5.0  5.059341  1.409850  5.842473  -4.117581  ...  -0.691473  6.341175   \n133    8.7  4.478906 -7.509306  6.555264 -10.462741  ...  -8.075867  6.998187   \n151    8.1  3.191757 -2.660796  4.967975  -2.079573  ...  -4.301486  5.037049   \n185    5.7  3.806195 -1.833217  5.326571   6.850430  ...   1.191798  5.348038   \n224   14.0  7.253969 -4.976639  7.427863  -3.716053  ...  -3.127716  7.308752   \n297   14.6  5.285598 -0.187233  7.657923   7.163532  ...   2.035766  7.598986   \n299    7.4  3.997194  1.563320  5.773649   5.231262  ...   1.811299  4.794824   \n312   15.7  6.723445 -3.478266  8.703046   4.853461  ...  -1.627327  7.729385   \n317   13.3  4.455406 -1.153822  6.293248   7.253189  ...  -0.285554  6.643117   \n337   11.6  4.059986 -0.475695  5.814198   4.229160  ...   1.935103  5.881160   \n409    9.1  4.461010  1.647325  5.001395   3.951644  ...   3.453146  4.857354   \n412    6.5  4.445885 -2.670984  4.193865   1.896568  ...   0.878065  4.084990   \n468   10.0  6.499544  0.987498  5.901394   2.443705  ...   2.387175  5.004213   \n472    6.0  4.707780 -0.081762  5.070309  -1.000696  ...   0.017969  4.336295   \n532    7.6  3.527159 -1.832791  4.799352   3.274611  ...   0.057019  4.834415   \n579   11.1  5.370464 -0.437305  7.408936   2.213023  ...  -0.377210  7.740157   \n597    9.6  4.506023  0.185043  4.551772   3.538269  ...   1.196393  3.673649   \n613   11.5  6.045300  0.427144  8.127893   4.227675  ...   1.370489  8.234624   \n626    6.1  4.142042 -4.002382  3.811272   1.849472  ...  -0.230994  4.528772   \n640   14.2  4.424318  2.120170  5.082154   9.266614  ...   4.170232  3.822428   \n661    6.5  4.707084  2.523831  3.964801   6.006142  ...   5.085778  3.454311   \n668   10.5  6.634998  0.371675  7.183034  10.594227  ...   3.557822  5.223568   \n686    8.3  4.345182  8.246207  6.283938  11.095466  ...  10.148925  6.931207   \n764    6.0  4.090737 -0.062369  6.301618   6.410827  ...   0.830037  5.349754   \n770    5.8  5.004755 -3.629727  5.980267   3.313895  ...  -1.710297  4.904680   \n828   12.5  5.770095  4.915890  7.509492  12.159146  ...   5.346099  7.192837   \n853    7.7  4.871993 -5.910659  6.225231  -0.727466  ...  -4.189481  6.164666   \n871    6.5  4.117897  1.537067  5.082917   6.353641  ...   3.716075  5.734635   \n875    5.8  4.573427 -3.536944  7.014129   1.131613  ...  -3.385221  7.345044   \n892   12.7  3.912382  4.680202  5.099197   9.203749  ...   4.607544  4.768916   \n933    8.2  4.979603 -2.891342  6.079895   1.270968  ...  -0.344866  6.296101   \n947    8.4  6.107676 -1.831239  5.229921  -0.587793  ...   0.047360  5.350067   \n986    9.2  4.436124 -1.183408  6.537289   3.683216  ...  -0.537948  6.330530   \n1012   7.0  4.402146  4.440656  6.446824  11.073793  ...   7.704644  6.851979   \n1025   7.9  4.712672  3.989345  3.494085   1.419331  ...   3.662375  3.965258   \n1026  17.0  4.939800  1.277064  5.068726   7.265239  ...   4.221138  3.523288   \n1064   6.0  5.583308  0.859568  4.511233   2.786869  ...   1.569289  3.125669   \n1069   7.0  4.359653 -2.031830  3.518201   2.622914  ...   0.748827  3.305271   \n1098  12.3  4.379789  5.495122  6.140017   6.685741  ...   4.568162  5.171193   \n1146   9.7  4.667991  0.566955  5.859430  10.979934  ...   3.784865  6.015689   \n1163  10.1  5.602559  2.029525  3.894266   3.814126  ...   4.236764  4.136659   \n1254  12.7  6.478516  4.442273  5.395035   6.459586  ...   5.908868  3.592020   \n1270   6.2  5.553483 -2.907826  4.821595   1.559831  ...  -2.987783  3.195917   \n\n        Qual_16    Fit_17    Qual_17    Fit_18    Qual_18    Fit_19   Qual_19  \\\n25     1.779553  5.969413   2.066563  4.128942  -0.284972  5.821666 -1.701650   \n76    -0.040728  4.479818  -0.864890  6.076276  -0.312275  5.146156  0.985903   \n105    2.216240  3.951228   0.806527  5.322939  -3.460164  4.562592 -3.081910   \n114   -2.380711  7.149748  -2.787698  7.082474  -7.257844  5.646879 -2.147400   \n115   -1.789953  6.886429  -1.939490  5.663161  -2.800841  4.316148  3.785148   \n133   -4.395437  6.027067  -6.616445  6.381977  -9.039324  5.070109 -5.480978   \n151   -2.617459  3.094754  -2.494281  4.143033  -1.690765  3.968530 -5.179180   \n185   12.103352  4.928542   5.042167  5.195307   5.063240  4.914971 -2.735127   \n224   -4.614053  5.359548  -1.767923  6.708737  -5.032094  7.831677  1.644815   \n297   11.823009  6.031006   6.169946  7.379789   2.911829  6.479808 -1.431247   \n299    8.426457  3.270709   5.655321  4.926034  -1.453766  5.184664  0.579714   \n312    9.473960  4.298671   4.350218  7.620664  -0.202264  8.206817 -6.192065   \n317   11.029764  6.700692   3.445124  6.403635   1.062981  4.956017 -6.558963   \n337    7.626041  3.098085   4.389115  5.375534   3.872774  5.484086 -2.535009   \n409    3.845275  3.027963   3.540451  4.060011   7.010268  5.360169 -0.842151   \n412    1.651609  3.472923   3.269545  3.249480   4.698721  4.800186 -4.368929   \n468    4.259334  5.154794   3.537250  5.075527   4.687493  6.801582 -1.719786   \n472   -1.778037  3.310629   0.410479  3.765638  -1.074423  5.387621  2.941906   \n532    5.169236  3.003904   2.679838  4.344474   2.245232  4.496097 -3.930862   \n579    6.870657  7.293280   1.473584  7.466273  -0.447864  6.059624  2.002381   \n597    4.911394  3.055528   3.618322  3.843328   3.816164  5.454986 -3.997313   \n613    6.420791  6.630269   1.992621  7.823929   2.077775  7.190409 -0.127538   \n626    2.328755  5.025472   1.923439  4.021093   0.317108  4.405988 -1.454922   \n640   12.820590  3.816287   8.563994  4.266909   7.840462  5.457852  0.403121   \n661    7.415668  4.417476   7.848688  3.638813   4.209565  4.919051  0.215519   \n668   14.987326  4.836558   9.079559  6.306112   6.982727  7.609474  1.443447   \n686   14.914682  6.666204   9.966659  6.484152   8.885761  4.938415  4.537722   \n764   12.466149  3.312528   6.635436  5.375363   3.216510  5.565036 -1.841060   \n770    7.348912  3.586770   2.062674  4.969406   3.240764  6.047402 -3.745589   \n828   17.980197  7.126051  10.704457  7.360912   6.784190  6.489125 -1.195065   \n853    1.189306  3.384695  -2.249471  5.537326  -2.058315  6.069422 -6.273721   \n871    8.249725  6.340762   4.009772  5.385908   6.716462  4.024449  3.786576   \n875    6.486533  5.889070   0.108758  6.935931  -1.423734  5.553568 -5.080271   \n892   15.568353  5.751132   8.552307  5.251161   4.492847  4.404682  6.465704   \n933    4.179283  4.926006   0.489046  5.797120   1.057331  6.053384 -5.919980   \n947   -1.447455  5.081383   0.778758  4.725399  -1.685462  6.269619 -5.202393   \n986    6.318947  5.698842   1.982424  6.091949   0.912242  5.212203 -0.061925   \n1012  15.081907  5.822374   9.109979  6.513805  10.906179  5.318192  5.221578   \n1025   1.661345  5.765471   5.180882  3.801086  -0.123381  4.438877  0.907135   \n1026  10.951544  3.376158   9.264403  4.074255   6.133228  5.658831 -0.609434   \n1064   4.387554  5.869037   4.566907  4.291832  -0.538245  5.741786 -0.348503   \n1069   3.358268  5.277890   2.329688  3.139257   4.785858  4.283172 -2.589588   \n1098  11.787850  3.937407   6.567091  5.383621   4.968701  5.768865  2.610829   \n1146  15.963993  5.576544   8.204068  6.031633   5.357710  5.646948 -0.841999   \n1163   3.814445  5.808525   5.809277  4.288023   2.359174  5.358095 -0.188496   \n1254   9.042785  6.539788   8.412499  5.295102   5.203095  6.741341  6.842109   \n1270   0.713238  4.459433  -0.281310  3.913871  -1.122122  5.862386  0.797714   \n\n      Value  \n25      1.0  \n76      1.0  \n105     1.0  \n114     1.0  \n115     1.0  \n133     1.0  \n151     1.0  \n185     1.0  \n224     1.0  \n297     1.0  \n299     1.0  \n312     1.0  \n317     1.0  \n337     1.0  \n409     1.0  \n412     1.0  \n468     1.0  \n472     1.0  \n532     1.0  \n579     1.0  \n597     1.0  \n613     1.0  \n626     1.0  \n640     1.0  \n661     1.0  \n668     1.0  \n686     1.0  \n764     1.0  \n770     1.0  \n828     1.0  \n853     1.0  \n871     1.0  \n875     1.0  \n892     1.0  \n933     1.0  \n947     1.0  \n986     1.0  \n1012    1.0  \n1025    1.0  \n1026    1.0  \n1064    1.0  \n1069    1.0  \n1098    1.0  \n1146    1.0  \n1163    1.0  \n1254    1.0  \n1270    1.0  \n\n[47 rows x 47 columns]",
      "text/html": "<div>\n<style scoped>\n    .dataframe tbody tr th:only-of-type {\n        vertical-align: middle;\n    }\n\n    .dataframe tbody tr th {\n        vertical-align: top;\n    }\n\n    .dataframe thead th {\n        text-align: right;\n    }\n</style>\n<table border=\"1\" class=\"dataframe\">\n  <thead>\n    <tr style=\"text-align: right;\">\n      <th></th>\n      <th>Player</th>\n      <th>Pos</th>\n      <th>Squad</th>\n      <th>Comp</th>\n      <th>Age</th>\n      <th>90s</th>\n      <th>Fit_0</th>\n      <th>Qual_0</th>\n      <th>Fit_1</th>\n      <th>Qual_1</th>\n      <th>...</th>\n      <th>Qual_15</th>\n      <th>Fit_16</th>\n      <th>Qual_16</th>\n      <th>Fit_17</th>\n      <th>Qual_17</th>\n      <th>Fit_18</th>\n      <th>Qual_18</th>\n      <th>Fit_19</th>\n      <th>Qual_19</th>\n      <th>Value</th>\n    </tr>\n  </thead>\n  <tbody>\n    <tr>\n      <th>25</th>\n      <td>Nathan Aké</td>\n      <td>DF</td>\n      <td>Manchester City</td>\n      <td>Premier League</td>\n      <td>27</td>\n      <td>8.3</td>\n      <td>6.089174</td>\n      <td>1.084225</td>\n      <td>4.200325</td>\n      <td>2.382201</td>\n      <td>...</td>\n      <td>1.284192</td>\n      <td>3.479950</td>\n      <td>1.779553</td>\n      <td>5.969413</td>\n      <td>2.066563</td>\n      <td>4.128942</td>\n      <td>-0.284972</td>\n      <td>5.821666</td>\n      <td>-1.701650</td>\n      <td>1.0</td>\n    </tr>\n    <tr>\n      <th>76</th>\n      <td>Ezequiel Ávila</td>\n      <td>FW,MF</td>\n      <td>Osasuna</td>\n      <td>La Liga</td>\n      <td>28</td>\n      <td>10.2</td>\n      <td>3.973528</td>\n      <td>0.412927</td>\n      <td>6.471474</td>\n      <td>-2.224797</td>\n      <td>...</td>\n      <td>-0.693166</td>\n      <td>6.758802</td>\n      <td>-0.040728</td>\n      <td>4.479818</td>\n      <td>-0.864890</td>\n      <td>6.076276</td>\n      <td>-0.312275</td>\n      <td>5.146156</td>\n      <td>0.985903</td>\n      <td>1.0</td>\n    </tr>\n    <tr>\n      <th>105</th>\n      <td>Musa Barrow</td>\n      <td>FW,MF</td>\n      <td>Bologna</td>\n      <td>Serie A</td>\n      <td>24</td>\n      <td>7.6</td>\n      <td>3.362639</td>\n      <td>-1.286079</td>\n      <td>5.597003</td>\n      <td>0.631450</td>\n      <td>...</td>\n      <td>0.085886</td>\n      <td>6.026778</td>\n      <td>2.216240</td>\n      <td>3.951228</td>\n      <td>0.806527</td>\n      <td>5.322939</td>\n      <td>-3.460164</td>\n      <td>4.562592</td>\n      <td>-3.081910</td>\n      <td>1.0</td>\n    </tr>\n    <tr>\n      <th>114</th>\n      <td>Sheraldo Becker</td>\n      <td>FW</td>\n      <td>Union Berlin</td>\n      <td>Bundesliga</td>\n      <td>27</td>\n      <td>11.7</td>\n      <td>5.125207</td>\n      <td>-5.737501</td>\n      <td>6.851407</td>\n      <td>-5.444755</td>\n      <td>...</td>\n      <td>-6.563197</td>\n      <td>7.542930</td>\n      <td>-2.380711</td>\n      <td>7.149748</td>\n      <td>-2.787698</td>\n      <td>7.082474</td>\n      <td>-7.257844</td>\n      <td>5.646879</td>\n      <td>-2.147400</td>\n      <td>1.0</td>\n    </tr>\n    <tr>\n      <th>115</th>\n      <td>Kevin Behrens</td>\n      <td>FW</td>\n      <td>Union Berlin</td>\n      <td>Bundesliga</td>\n      <td>31</td>\n      <td>5.0</td>\n      <td>5.059341</td>\n      <td>1.409850</td>\n      <td>5.842473</td>\n      <td>-4.117581</td>\n      <td>...</td>\n      <td>-0.691473</td>\n      <td>6.341175</td>\n      <td>-1.789953</td>\n      <td>6.886429</td>\n      <td>-1.939490</td>\n      <td>5.663161</td>\n      <td>-2.800841</td>\n      <td>4.316148</td>\n      <td>3.785148</td>\n      <td>1.0</td>\n    </tr>\n    <tr>\n      <th>133</th>\n      <td>Mergim Berisha</td>\n      <td>FW</td>\n      <td>Augsburg</td>\n      <td>Bundesliga</td>\n      <td>24</td>\n      <td>8.7</td>\n      <td>4.478906</td>\n      <td>-7.509306</td>\n      <td>6.555264</td>\n      <td>-10.462741</td>\n      <td>...</td>\n      <td>-8.075867</td>\n      <td>6.998187</td>\n      <td>-4.395437</td>\n      <td>6.027067</td>\n      <td>-6.616445</td>\n      <td>6.381977</td>\n      <td>-9.039324</td>\n      <td>5.070109</td>\n      <td>-5.480978</td>\n      <td>1.0</td>\n    </tr>\n    <tr>\n      <th>151</th>\n      <td>Federico Bonazzoli</td>\n      <td>FW</td>\n      <td>Salernitana</td>\n      <td>Serie A</td>\n      <td>25</td>\n      <td>8.1</td>\n      <td>3.191757</td>\n      <td>-2.660796</td>\n      <td>4.967975</td>\n      <td>-2.079573</td>\n      <td>...</td>\n      <td>-4.301486</td>\n      <td>5.037049</td>\n      <td>-2.617459</td>\n      <td>3.094754</td>\n      <td>-2.494281</td>\n      <td>4.143033</td>\n      <td>-1.690765</td>\n      <td>3.968530</td>\n      <td>-5.179180</td>\n      <td>1.0</td>\n    </tr>\n    <tr>\n      <th>185</th>\n      <td>Jimmy Cabot</td>\n      <td>DF,MF</td>\n      <td>Lens</td>\n      <td>Ligue 1</td>\n      <td>28</td>\n      <td>5.7</td>\n      <td>3.806195</td>\n      <td>-1.833217</td>\n      <td>5.326571</td>\n      <td>6.850430</td>\n      <td>...</td>\n      <td>1.191798</td>\n      <td>5.348038</td>\n      <td>12.103352</td>\n      <td>4.928542</td>\n      <td>5.042167</td>\n      <td>5.195307</td>\n      <td>5.063240</td>\n      <td>4.914971</td>\n      <td>-2.735127</td>\n      <td>1.0</td>\n    </tr>\n    <tr>\n      <th>224</th>\n      <td>Catena</td>\n      <td>DF</td>\n      <td>Rayo Vallecano</td>\n      <td>La Liga</td>\n      <td>28</td>\n      <td>14.0</td>\n      <td>7.253969</td>\n      <td>-4.976639</td>\n      <td>7.427863</td>\n      <td>-3.716053</td>\n      <td>...</td>\n      <td>-3.127716</td>\n      <td>7.308752</td>\n      <td>-4.614053</td>\n      <td>5.359548</td>\n      <td>-1.767923</td>\n      <td>6.708737</td>\n      <td>-5.032094</td>\n      <td>7.831677</td>\n      <td>1.644815</td>\n      <td>1.0</td>\n    </tr>\n    <tr>\n      <th>297</th>\n      <td>Kevin De Bruyne</td>\n      <td>MF</td>\n      <td>Manchester City</td>\n      <td>Premier League</td>\n      <td>31</td>\n      <td>14.6</td>\n      <td>5.285598</td>\n      <td>-0.187233</td>\n      <td>7.657923</td>\n      <td>7.163532</td>\n      <td>...</td>\n      <td>2.035766</td>\n      <td>7.598986</td>\n      <td>11.823009</td>\n      <td>6.031006</td>\n      <td>6.169946</td>\n      <td>7.379789</td>\n      <td>2.911829</td>\n      <td>6.479808</td>\n      <td>-1.431247</td>\n      <td>1.0</td>\n    </tr>\n    <tr>\n      <th>299</th>\n      <td>Rodrigo De Paul</td>\n      <td>MF</td>\n      <td>Atlético Madrid</td>\n      <td>La Liga</td>\n      <td>28</td>\n      <td>7.4</td>\n      <td>3.997194</td>\n      <td>1.563320</td>\n      <td>5.773649</td>\n      <td>5.231262</td>\n      <td>...</td>\n      <td>1.811299</td>\n      <td>4.794824</td>\n      <td>8.426457</td>\n      <td>3.270709</td>\n      <td>5.655321</td>\n      <td>4.926034</td>\n      <td>-1.453766</td>\n      <td>5.184664</td>\n      <td>0.579714</td>\n      <td>1.0</td>\n    </tr>\n    <tr>\n      <th>312</th>\n      <td>Branco van den Boomen</td>\n      <td>MF</td>\n      <td>Toulouse</td>\n      <td>Ligue 1</td>\n      <td>27</td>\n      <td>15.7</td>\n      <td>6.723445</td>\n      <td>-3.478266</td>\n      <td>8.703046</td>\n      <td>4.853461</td>\n      <td>...</td>\n      <td>-1.627327</td>\n      <td>7.729385</td>\n      <td>9.473960</td>\n      <td>4.298671</td>\n      <td>4.350218</td>\n      <td>7.620664</td>\n      <td>-0.202264</td>\n      <td>8.206817</td>\n      <td>-6.192065</td>\n      <td>1.0</td>\n    </tr>\n    <tr>\n      <th>317</th>\n      <td>Gerard Deulofeu</td>\n      <td>FW</td>\n      <td>Udinese</td>\n      <td>Serie A</td>\n      <td>28</td>\n      <td>13.3</td>\n      <td>4.455406</td>\n      <td>-1.153822</td>\n      <td>6.293248</td>\n      <td>7.253189</td>\n      <td>...</td>\n      <td>-0.285554</td>\n      <td>6.643117</td>\n      <td>11.029764</td>\n      <td>6.700692</td>\n      <td>3.445124</td>\n      <td>6.403635</td>\n      <td>1.062981</td>\n      <td>4.956017</td>\n      <td>-6.558963</td>\n      <td>1.0</td>\n    </tr>\n    <tr>\n      <th>337</th>\n      <td>Federico Dimarco</td>\n      <td>DF</td>\n      <td>Inter</td>\n      <td>Serie A</td>\n      <td>25</td>\n      <td>11.6</td>\n      <td>4.059986</td>\n      <td>-0.475695</td>\n      <td>5.814198</td>\n      <td>4.229160</td>\n      <td>...</td>\n      <td>1.935103</td>\n      <td>5.881160</td>\n      <td>7.626041</td>\n      <td>3.098085</td>\n      <td>4.389115</td>\n      <td>5.375534</td>\n      <td>3.872774</td>\n      <td>5.484086</td>\n      <td>-2.535009</td>\n      <td>1.0</td>\n    </tr>\n    <tr>\n      <th>409</th>\n      <td>Edimilson Fernandes</td>\n      <td>DF</td>\n      <td>Mainz 05</td>\n      <td>Bundesliga</td>\n      <td>26</td>\n      <td>9.1</td>\n      <td>4.461010</td>\n      <td>1.647325</td>\n      <td>5.001395</td>\n      <td>3.951644</td>\n      <td>...</td>\n      <td>3.453146</td>\n      <td>4.857354</td>\n      <td>3.845275</td>\n      <td>3.027963</td>\n      <td>3.540451</td>\n      <td>4.060011</td>\n      <td>7.010268</td>\n      <td>5.360169</td>\n      <td>-0.842151</td>\n      <td>1.0</td>\n    </tr>\n    <tr>\n      <th>412</th>\n      <td>Fernando</td>\n      <td>MF,DF</td>\n      <td>Sevilla</td>\n      <td>La Liga</td>\n      <td>35</td>\n      <td>6.5</td>\n      <td>4.445885</td>\n      <td>-2.670984</td>\n      <td>4.193865</td>\n      <td>1.896568</td>\n      <td>...</td>\n      <td>0.878065</td>\n      <td>4.084990</td>\n      <td>1.651609</td>\n      <td>3.472923</td>\n      <td>3.269545</td>\n      <td>3.249480</td>\n      <td>4.698721</td>\n      <td>4.800186</td>\n      <td>-4.368929</td>\n      <td>1.0</td>\n    </tr>\n    <tr>\n      <th>468</th>\n      <td>Joe Gomez</td>\n      <td>DF</td>\n      <td>Liverpool</td>\n      <td>Premier League</td>\n      <td>25</td>\n      <td>10.0</td>\n      <td>6.499544</td>\n      <td>0.987498</td>\n      <td>5.901394</td>\n      <td>2.443705</td>\n      <td>...</td>\n      <td>2.387175</td>\n      <td>5.004213</td>\n      <td>4.259334</td>\n      <td>5.154794</td>\n      <td>3.537250</td>\n      <td>5.075527</td>\n      <td>4.687493</td>\n      <td>6.801582</td>\n      <td>-1.719786</td>\n      <td>1.0</td>\n    </tr>\n    <tr>\n      <th>472</th>\n      <td>Maxime Gonalons</td>\n      <td>MF</td>\n      <td>Clermont Foot</td>\n      <td>Ligue 1</td>\n      <td>33</td>\n      <td>6.0</td>\n      <td>4.707780</td>\n      <td>-0.081762</td>\n      <td>5.070309</td>\n      <td>-1.000696</td>\n      <td>...</td>\n      <td>0.017969</td>\n      <td>4.336295</td>\n      <td>-1.778037</td>\n      <td>3.310629</td>\n      <td>0.410479</td>\n      <td>3.765638</td>\n      <td>-1.074423</td>\n      <td>5.387621</td>\n      <td>2.941906</td>\n      <td>1.0</td>\n    </tr>\n    <tr>\n      <th>532</th>\n      <td>Gauthier Hein</td>\n      <td>MF,FW</td>\n      <td>Auxerre</td>\n      <td>Ligue 1</td>\n      <td>26</td>\n      <td>7.6</td>\n      <td>3.527159</td>\n      <td>-1.832791</td>\n      <td>4.799352</td>\n      <td>3.274611</td>\n      <td>...</td>\n      <td>0.057019</td>\n      <td>4.834415</td>\n      <td>5.169236</td>\n      <td>3.003904</td>\n      <td>2.679838</td>\n      <td>4.344474</td>\n      <td>2.245232</td>\n      <td>4.496097</td>\n      <td>-3.930862</td>\n      <td>1.0</td>\n    </tr>\n    <tr>\n      <th>579</th>\n      <td>Junya Ito</td>\n      <td>FW</td>\n      <td>Reims</td>\n      <td>Ligue 1</td>\n      <td>29</td>\n      <td>11.1</td>\n      <td>5.370464</td>\n      <td>-0.437305</td>\n      <td>7.408936</td>\n      <td>2.213023</td>\n      <td>...</td>\n      <td>-0.377210</td>\n      <td>7.740157</td>\n      <td>6.870657</td>\n      <td>7.293280</td>\n      <td>1.473584</td>\n      <td>7.466273</td>\n      <td>-0.447864</td>\n      <td>6.059624</td>\n      <td>2.002381</td>\n      <td>1.0</td>\n    </tr>\n    <tr>\n      <th>597</th>\n      <td>Paul Joly</td>\n      <td>DF</td>\n      <td>Auxerre</td>\n      <td>Ligue 1</td>\n      <td>22</td>\n      <td>9.6</td>\n      <td>4.506023</td>\n      <td>0.185043</td>\n      <td>4.551772</td>\n      <td>3.538269</td>\n      <td>...</td>\n      <td>1.196393</td>\n      <td>3.673649</td>\n      <td>4.911394</td>\n      <td>3.055528</td>\n      <td>3.618322</td>\n      <td>3.843328</td>\n      <td>3.816164</td>\n      <td>5.454986</td>\n      <td>-3.997313</td>\n      <td>1.0</td>\n    </tr>\n    <tr>\n      <th>613</th>\n      <td>Florian Kainz</td>\n      <td>FW,MF</td>\n      <td>Köln</td>\n      <td>Bundesliga</td>\n      <td>30</td>\n      <td>11.5</td>\n      <td>6.045300</td>\n      <td>0.427144</td>\n      <td>8.127893</td>\n      <td>4.227675</td>\n      <td>...</td>\n      <td>1.370489</td>\n      <td>8.234624</td>\n      <td>6.420791</td>\n      <td>6.630269</td>\n      <td>1.992621</td>\n      <td>7.823929</td>\n      <td>2.077775</td>\n      <td>7.190409</td>\n      <td>-0.127538</td>\n      <td>1.0</td>\n    </tr>\n    <tr>\n      <th>626</th>\n      <td>Rick Karsdorp</td>\n      <td>DF</td>\n      <td>Roma</td>\n      <td>Serie A</td>\n      <td>27</td>\n      <td>6.1</td>\n      <td>4.142042</td>\n      <td>-4.002382</td>\n      <td>3.811272</td>\n      <td>1.849472</td>\n      <td>...</td>\n      <td>-0.230994</td>\n      <td>4.528772</td>\n      <td>2.328755</td>\n      <td>5.025472</td>\n      <td>1.923439</td>\n      <td>4.021093</td>\n      <td>0.317108</td>\n      <td>4.405988</td>\n      <td>-1.454922</td>\n      <td>1.0</td>\n    </tr>\n    <tr>\n      <th>640</th>\n      <td>Joshua Kimmich</td>\n      <td>MF</td>\n      <td>Bayern Munich</td>\n      <td>Bundesliga</td>\n      <td>27</td>\n      <td>14.2</td>\n      <td>4.424318</td>\n      <td>2.120170</td>\n      <td>5.082154</td>\n      <td>9.266614</td>\n      <td>...</td>\n      <td>4.170232</td>\n      <td>3.822428</td>\n      <td>12.820590</td>\n      <td>3.816287</td>\n      <td>8.563994</td>\n      <td>4.266909</td>\n      <td>7.840462</td>\n      <td>5.457852</td>\n      <td>0.403121</td>\n      <td>1.0</td>\n    </tr>\n    <tr>\n      <th>661</th>\n      <td>Jules Koundé</td>\n      <td>DF</td>\n      <td>Barcelona</td>\n      <td>La Liga</td>\n      <td>24</td>\n      <td>6.5</td>\n      <td>4.707084</td>\n      <td>2.523831</td>\n      <td>3.964801</td>\n      <td>6.006142</td>\n      <td>...</td>\n      <td>5.085778</td>\n      <td>3.454311</td>\n      <td>7.415668</td>\n      <td>4.417476</td>\n      <td>7.848688</td>\n      <td>3.638813</td>\n      <td>4.209565</td>\n      <td>4.919051</td>\n      <td>0.215519</td>\n      <td>1.0</td>\n    </tr>\n    <tr>\n      <th>668</th>\n      <td>Toni Kroos</td>\n      <td>MF</td>\n      <td>Real Madrid</td>\n      <td>La Liga</td>\n      <td>32</td>\n      <td>10.5</td>\n      <td>6.634998</td>\n      <td>0.371675</td>\n      <td>7.183034</td>\n      <td>10.594227</td>\n      <td>...</td>\n      <td>3.557822</td>\n      <td>5.223568</td>\n      <td>14.987326</td>\n      <td>4.836558</td>\n      <td>9.079559</td>\n      <td>6.306112</td>\n      <td>6.982727</td>\n      <td>7.609474</td>\n      <td>1.443447</td>\n      <td>1.0</td>\n    </tr>\n    <tr>\n      <th>686</th>\n      <td>Armand Lauriente</td>\n      <td>FW</td>\n      <td>Sassuolo</td>\n      <td>Serie A</td>\n      <td>24</td>\n      <td>8.3</td>\n      <td>4.345182</td>\n      <td>8.246207</td>\n      <td>6.283938</td>\n      <td>11.095466</td>\n      <td>...</td>\n      <td>10.148925</td>\n      <td>6.931207</td>\n      <td>14.914682</td>\n      <td>6.666204</td>\n      <td>9.966659</td>\n      <td>6.484152</td>\n      <td>8.885761</td>\n      <td>4.938415</td>\n      <td>4.537722</td>\n      <td>1.0</td>\n    </tr>\n    <tr>\n      <th>764</th>\n      <td>Ruslan Malinovskyi</td>\n      <td>MF,FW</td>\n      <td>Atalanta</td>\n      <td>Serie A</td>\n      <td>29</td>\n      <td>6.0</td>\n      <td>4.090737</td>\n      <td>-0.062369</td>\n      <td>6.301618</td>\n      <td>6.410827</td>\n      <td>...</td>\n      <td>0.830037</td>\n      <td>5.349754</td>\n      <td>12.466149</td>\n      <td>3.312528</td>\n      <td>6.635436</td>\n      <td>5.375363</td>\n      <td>3.216510</td>\n      <td>5.565036</td>\n      <td>-1.841060</td>\n      <td>1.0</td>\n    </tr>\n    <tr>\n      <th>770</th>\n      <td>Thomas Mangani</td>\n      <td>MF</td>\n      <td>Ajaccio</td>\n      <td>Ligue 1</td>\n      <td>35</td>\n      <td>5.8</td>\n      <td>5.004755</td>\n      <td>-3.629727</td>\n      <td>5.980267</td>\n      <td>3.313895</td>\n      <td>...</td>\n      <td>-1.710297</td>\n      <td>4.904680</td>\n      <td>7.348912</td>\n      <td>3.586770</td>\n      <td>2.062674</td>\n      <td>4.969406</td>\n      <td>3.240764</td>\n      <td>6.047402</td>\n      <td>-3.745589</td>\n      <td>1.0</td>\n    </tr>\n    <tr>\n      <th>828</th>\n      <td>Lionel Messi</td>\n      <td>MF,FW</td>\n      <td>Paris S-G</td>\n      <td>Ligue 1</td>\n      <td>35</td>\n      <td>12.5</td>\n      <td>5.770095</td>\n      <td>4.915890</td>\n      <td>7.509492</td>\n      <td>12.159146</td>\n      <td>...</td>\n      <td>5.346099</td>\n      <td>7.192837</td>\n      <td>17.980197</td>\n      <td>7.126051</td>\n      <td>10.704457</td>\n      <td>7.360912</td>\n      <td>6.784190</td>\n      <td>6.489125</td>\n      <td>-1.195065</td>\n      <td>1.0</td>\n    </tr>\n    <tr>\n      <th>853</th>\n      <td>Tobias Mohr</td>\n      <td>DF,MF</td>\n      <td>Schalke 04</td>\n      <td>Bundesliga</td>\n      <td>27</td>\n      <td>7.7</td>\n      <td>4.871993</td>\n      <td>-5.910659</td>\n      <td>6.225231</td>\n      <td>-0.727466</td>\n      <td>...</td>\n      <td>-4.189481</td>\n      <td>6.164666</td>\n      <td>1.189306</td>\n      <td>3.384695</td>\n      <td>-2.249471</td>\n      <td>5.537326</td>\n      <td>-2.058315</td>\n      <td>6.069422</td>\n      <td>-6.273721</td>\n      <td>1.0</td>\n    </tr>\n    <tr>\n      <th>871</th>\n      <td>Thomas Müller</td>\n      <td>FW,MF</td>\n      <td>Bayern Munich</td>\n      <td>Bundesliga</td>\n      <td>33</td>\n      <td>6.5</td>\n      <td>4.117897</td>\n      <td>1.537067</td>\n      <td>5.082917</td>\n      <td>6.353641</td>\n      <td>...</td>\n      <td>3.716075</td>\n      <td>5.734635</td>\n      <td>8.249725</td>\n      <td>6.340762</td>\n      <td>4.009772</td>\n      <td>5.385908</td>\n      <td>6.716462</td>\n      <td>4.024449</td>\n      <td>3.786576</td>\n      <td>1.0</td>\n    </tr>\n    <tr>\n      <th>875</th>\n      <td>Luis Muriel</td>\n      <td>FW</td>\n      <td>Atalanta</td>\n      <td>Serie A</td>\n      <td>31</td>\n      <td>5.8</td>\n      <td>4.573427</td>\n      <td>-3.536944</td>\n      <td>7.014129</td>\n      <td>1.131613</td>\n      <td>...</td>\n      <td>-3.385221</td>\n      <td>7.345044</td>\n      <td>6.486533</td>\n      <td>5.889070</td>\n      <td>0.108758</td>\n      <td>6.935931</td>\n      <td>-1.423734</td>\n      <td>5.553568</td>\n      <td>-5.080271</td>\n      <td>1.0</td>\n    </tr>\n    <tr>\n      <th>892</th>\n      <td>Neymar</td>\n      <td>MF,FW</td>\n      <td>Paris S-G</td>\n      <td>Ligue 1</td>\n      <td>30</td>\n      <td>12.7</td>\n      <td>3.912382</td>\n      <td>4.680202</td>\n      <td>5.099197</td>\n      <td>9.203749</td>\n      <td>...</td>\n      <td>4.607544</td>\n      <td>4.768916</td>\n      <td>15.568353</td>\n      <td>5.751132</td>\n      <td>8.552307</td>\n      <td>5.251161</td>\n      <td>4.492847</td>\n      <td>4.404682</td>\n      <td>6.465704</td>\n      <td>1.0</td>\n    </tr>\n    <tr>\n      <th>933</th>\n      <td>Thomas Ouwejan</td>\n      <td>DF</td>\n      <td>Schalke 04</td>\n      <td>Bundesliga</td>\n      <td>26</td>\n      <td>8.2</td>\n      <td>4.979603</td>\n      <td>-2.891342</td>\n      <td>6.079895</td>\n      <td>1.270968</td>\n      <td>...</td>\n      <td>-0.344866</td>\n      <td>6.296101</td>\n      <td>4.179283</td>\n      <td>4.926006</td>\n      <td>0.489046</td>\n      <td>5.797120</td>\n      <td>1.057331</td>\n      <td>6.053384</td>\n      <td>-5.919980</td>\n      <td>1.0</td>\n    </tr>\n    <tr>\n      <th>947</th>\n      <td>Patric</td>\n      <td>DF</td>\n      <td>Lazio</td>\n      <td>Serie A</td>\n      <td>29</td>\n      <td>8.4</td>\n      <td>6.107676</td>\n      <td>-1.831239</td>\n      <td>5.229921</td>\n      <td>-0.587793</td>\n      <td>...</td>\n      <td>0.047360</td>\n      <td>5.350067</td>\n      <td>-1.447455</td>\n      <td>5.081383</td>\n      <td>0.778758</td>\n      <td>4.725399</td>\n      <td>-1.685462</td>\n      <td>6.269619</td>\n      <td>-5.202393</td>\n      <td>1.0</td>\n    </tr>\n    <tr>\n      <th>986</th>\n      <td>Alassane Pléa</td>\n      <td>FW</td>\n      <td>M'Gladbach</td>\n      <td>Bundesliga</td>\n      <td>29</td>\n      <td>9.2</td>\n      <td>4.436124</td>\n      <td>-1.183408</td>\n      <td>6.537289</td>\n      <td>3.683216</td>\n      <td>...</td>\n      <td>-0.537948</td>\n      <td>6.330530</td>\n      <td>6.318947</td>\n      <td>5.698842</td>\n      <td>1.982424</td>\n      <td>6.091949</td>\n      <td>0.912242</td>\n      <td>5.212203</td>\n      <td>-0.061925</td>\n      <td>1.0</td>\n    </tr>\n    <tr>\n      <th>1012</th>\n      <td>Raphinha</td>\n      <td>FW</td>\n      <td>Barcelona</td>\n      <td>La Liga</td>\n      <td>26</td>\n      <td>7.0</td>\n      <td>4.402146</td>\n      <td>4.440656</td>\n      <td>6.446824</td>\n      <td>11.073793</td>\n      <td>...</td>\n      <td>7.704644</td>\n      <td>6.851979</td>\n      <td>15.081907</td>\n      <td>5.822374</td>\n      <td>9.109979</td>\n      <td>6.513805</td>\n      <td>10.906179</td>\n      <td>5.318192</td>\n      <td>5.221578</td>\n      <td>1.0</td>\n    </tr>\n    <tr>\n      <th>1025</th>\n      <td>Samuele Ricci</td>\n      <td>MF</td>\n      <td>Torino</td>\n      <td>Serie A</td>\n      <td>21</td>\n      <td>7.9</td>\n      <td>4.712672</td>\n      <td>3.989345</td>\n      <td>3.494085</td>\n      <td>1.419331</td>\n      <td>...</td>\n      <td>3.662375</td>\n      <td>3.965258</td>\n      <td>1.661345</td>\n      <td>5.765471</td>\n      <td>5.180882</td>\n      <td>3.801086</td>\n      <td>-0.123381</td>\n      <td>4.438877</td>\n      <td>0.907135</td>\n      <td>1.0</td>\n    </tr>\n    <tr>\n      <th>1026</th>\n      <td>Declan Rice</td>\n      <td>MF</td>\n      <td>West Ham</td>\n      <td>Premier League</td>\n      <td>23</td>\n      <td>17.0</td>\n      <td>4.939800</td>\n      <td>1.277064</td>\n      <td>5.068726</td>\n      <td>7.265239</td>\n      <td>...</td>\n      <td>4.221138</td>\n      <td>3.523288</td>\n      <td>10.951544</td>\n      <td>3.376158</td>\n      <td>9.264403</td>\n      <td>4.074255</td>\n      <td>6.133228</td>\n      <td>5.658831</td>\n      <td>-0.609434</td>\n      <td>1.0</td>\n    </tr>\n    <tr>\n      <th>1064</th>\n      <td>Fabián Ruiz Peña</td>\n      <td>MF</td>\n      <td>Paris S-G</td>\n      <td>Ligue 1</td>\n      <td>26</td>\n      <td>6.0</td>\n      <td>5.583308</td>\n      <td>0.859568</td>\n      <td>4.511233</td>\n      <td>2.786869</td>\n      <td>...</td>\n      <td>1.569289</td>\n      <td>3.125669</td>\n      <td>4.387554</td>\n      <td>5.869037</td>\n      <td>4.566907</td>\n      <td>4.291832</td>\n      <td>-0.538245</td>\n      <td>5.741786</td>\n      <td>-0.348503</td>\n      <td>1.0</td>\n    </tr>\n    <tr>\n      <th>1069</th>\n      <td>Marcel Sabitzer</td>\n      <td>MF</td>\n      <td>Bayern Munich</td>\n      <td>Bundesliga</td>\n      <td>28</td>\n      <td>7.0</td>\n      <td>4.359653</td>\n      <td>-2.031830</td>\n      <td>3.518201</td>\n      <td>2.622914</td>\n      <td>...</td>\n      <td>0.748827</td>\n      <td>3.305271</td>\n      <td>3.358268</td>\n      <td>5.277890</td>\n      <td>2.329688</td>\n      <td>3.139257</td>\n      <td>4.785858</td>\n      <td>4.283172</td>\n      <td>-2.589588</td>\n      <td>1.0</td>\n    </tr>\n    <tr>\n      <th>1098</th>\n      <td>Téji Savanier</td>\n      <td>MF</td>\n      <td>Montpellier</td>\n      <td>Ligue 1</td>\n      <td>31</td>\n      <td>12.3</td>\n      <td>4.379789</td>\n      <td>5.495122</td>\n      <td>6.140017</td>\n      <td>6.685741</td>\n      <td>...</td>\n      <td>4.568162</td>\n      <td>5.171193</td>\n      <td>11.787850</td>\n      <td>3.937407</td>\n      <td>6.567091</td>\n      <td>5.383621</td>\n      <td>4.968701</td>\n      <td>5.768865</td>\n      <td>2.610829</td>\n      <td>1.0</td>\n    </tr>\n    <tr>\n      <th>1146</th>\n      <td>Borna Sosa</td>\n      <td>DF,MF</td>\n      <td>Stuttgart</td>\n      <td>Bundesliga</td>\n      <td>24</td>\n      <td>9.7</td>\n      <td>4.667991</td>\n      <td>0.566955</td>\n      <td>5.859430</td>\n      <td>10.979934</td>\n      <td>...</td>\n      <td>3.784865</td>\n      <td>6.015689</td>\n      <td>15.963993</td>\n      <td>5.576544</td>\n      <td>8.204068</td>\n      <td>6.031633</td>\n      <td>5.357710</td>\n      <td>5.646948</td>\n      <td>-0.841999</td>\n      <td>1.0</td>\n    </tr>\n    <tr>\n      <th>1163</th>\n      <td>John Stones</td>\n      <td>DF</td>\n      <td>Manchester City</td>\n      <td>Premier League</td>\n      <td>28</td>\n      <td>10.1</td>\n      <td>5.602559</td>\n      <td>2.029525</td>\n      <td>3.894266</td>\n      <td>3.814126</td>\n      <td>...</td>\n      <td>4.236764</td>\n      <td>4.136659</td>\n      <td>3.814445</td>\n      <td>5.808525</td>\n      <td>5.809277</td>\n      <td>4.288023</td>\n      <td>2.359174</td>\n      <td>5.358095</td>\n      <td>-0.188496</td>\n      <td>1.0</td>\n    </tr>\n    <tr>\n      <th>1254</th>\n      <td>Marco Verratti</td>\n      <td>MF</td>\n      <td>Paris S-G</td>\n      <td>Ligue 1</td>\n      <td>30</td>\n      <td>12.7</td>\n      <td>6.478516</td>\n      <td>4.442273</td>\n      <td>5.395035</td>\n      <td>6.459586</td>\n      <td>...</td>\n      <td>5.908868</td>\n      <td>3.592020</td>\n      <td>9.042785</td>\n      <td>6.539788</td>\n      <td>8.412499</td>\n      <td>5.295102</td>\n      <td>5.203095</td>\n      <td>6.741341</td>\n      <td>6.842109</td>\n      <td>1.0</td>\n    </tr>\n    <tr>\n      <th>1270</th>\n      <td>Kyle Walker</td>\n      <td>DF</td>\n      <td>Manchester City</td>\n      <td>Premier League</td>\n      <td>32</td>\n      <td>6.2</td>\n      <td>5.553483</td>\n      <td>-2.907826</td>\n      <td>4.821595</td>\n      <td>1.559831</td>\n      <td>...</td>\n      <td>-2.987783</td>\n      <td>3.195917</td>\n      <td>0.713238</td>\n      <td>4.459433</td>\n      <td>-0.281310</td>\n      <td>3.913871</td>\n      <td>-1.122122</td>\n      <td>5.862386</td>\n      <td>0.797714</td>\n      <td>1.0</td>\n    </tr>\n  </tbody>\n</table>\n<p>47 rows × 47 columns</p>\n</div>"
     },
     "execution_count": 13,
     "metadata": {},
     "output_type": "execute_result"
    }
   ],
   "source": [
    "scouting.loc[scouting.index.isin(lost)]"
   ],
   "metadata": {
    "collapsed": false,
    "pycharm": {
     "name": "#%%\n"
    }
   }
  },
  {
   "cell_type": "code",
   "execution_count": 14,
   "outputs": [
    {
     "data": {
      "text/plain": "Player     Kevin Behrens\nPos                   FW\nSquad       Union Berlin\nComp          Bundesliga\nAge                   31\n90s                  5.0\nFit_0           5.059341\nQual_0           1.40985\nFit_1           5.842473\nQual_1         -4.117581\nFit_2           6.949223\nQual_2         -3.175301\nFit_3           6.109078\nQual_3         -3.660287\nFit_4           6.083275\nQual_4         -3.742261\nFit_5           7.415526\nQual_5         -2.848339\nFit_6           4.907504\nQual_6         -0.839013\nFit_7            7.32532\nQual_7          -3.74324\nFit_8           5.765563\nQual_8         -2.130053\nFit_9           4.892755\nQual_9          -1.16608\nFit_10          4.518396\nQual_10         1.708865\nFit_11          7.321399\nQual_11        -3.187889\nFit_12          5.513493\nQual_12        -2.585185\nFit_13          5.439524\nQual_13         0.027987\nFit_14          5.467374\nQual_14        -0.473357\nFit_15          5.082612\nQual_15        -0.691473\nFit_16          6.341175\nQual_16        -1.789953\nFit_17          6.886429\nQual_17         -1.93949\nFit_18          5.663161\nQual_18        -2.800841\nFit_19          4.316148\nQual_19         3.785148\nValue                1.0\nName: 115, dtype: object"
     },
     "execution_count": 14,
     "metadata": {},
     "output_type": "execute_result"
    }
   ],
   "source": [
    "scouting.iloc[115]"
   ],
   "metadata": {
    "collapsed": false,
    "pycharm": {
     "name": "#%%\n"
    }
   }
  },
  {
   "cell_type": "code",
   "execution_count": 37,
   "outputs": [
    {
     "name": "stdout",
     "output_type": "stream",
     "text": [
      "Number of players with a smaller distance to centroid for centroid 0 than 3 :\n",
      "198\n",
      "-------------------------------\n",
      "Number of players with a smaller distance to centroid for centroid 1 than 3 :\n",
      "245\n",
      "-------------------------------\n",
      "Number of players with a smaller distance to centroid for centroid 2 than 3 :\n",
      "208\n",
      "-------------------------------\n",
      "Number of players with a smaller distance to centroid for centroid 3 than 3 :\n",
      "187\n",
      "-------------------------------\n",
      "Number of players with a smaller distance to centroid for centroid 4 than 3 :\n",
      "73\n",
      "-------------------------------\n",
      "Number of players with a smaller distance to centroid for centroid 5 than 3 :\n",
      "43\n",
      "-------------------------------\n",
      "Number of players with a smaller distance to centroid for centroid 6 than 3 :\n",
      "308\n",
      "-------------------------------\n",
      "Number of players with a smaller distance to centroid for centroid 7 than 3 :\n",
      "207\n",
      "-------------------------------\n",
      "Number of players with a smaller distance to centroid for centroid 8 than 3 :\n",
      "25\n",
      "-------------------------------\n",
      "Number of players with a smaller distance to centroid for centroid 9 than 3 :\n",
      "202\n",
      "-------------------------------\n",
      "Number of players with a smaller distance to centroid for centroid 10 than 3 :\n",
      "336\n",
      "-------------------------------\n",
      "Number of players with a smaller distance to centroid for centroid 11 than 3 :\n",
      "114\n",
      "-------------------------------\n",
      "Number of players with a smaller distance to centroid for centroid 12 than 3 :\n",
      "199\n",
      "-------------------------------\n",
      "Number of players with a smaller distance to centroid for centroid 13 than 3 :\n",
      "46\n",
      "-------------------------------\n",
      "Number of players with a smaller distance to centroid for centroid 14 than 3 :\n",
      "94\n",
      "-------------------------------\n",
      "Number of players with a smaller distance to centroid for centroid 15 than 3 :\n",
      "407\n",
      "-------------------------------\n",
      "Number of players with a smaller distance to centroid for centroid 16 than 3 :\n",
      "73\n",
      "-------------------------------\n",
      "Number of players with a smaller distance to centroid for centroid 17 than 3 :\n",
      "12\n",
      "-------------------------------\n",
      "Number of players with a smaller distance to centroid for centroid 18 than 3 :\n",
      "229\n",
      "-------------------------------\n",
      "Number of players with a smaller distance to centroid for centroid 19 than 3 :\n",
      "309\n",
      "-------------------------------\n"
     ]
    }
   ],
   "source": [
    "d = 3\n",
    "for column in soft.columns:\n",
    "    print(f\"Number of players with a smaller distance to centroid for centroid {column} than {d} :\")\n",
    "    print(len(soft[soft[column] > 70]))\n",
    "    print(\"-------------------------------\")"
   ],
   "metadata": {
    "collapsed": false,
    "pycharm": {
     "name": "#%%\n"
    }
   }
  },
  {
   "cell_type": "code",
   "execution_count": 16,
   "outputs": [
    {
     "data": {
      "text/plain": "                 Player    Pos          Squad            Comp  Age   90s  \\\n0      Brenden Aaronson  MF,FW   Leeds United  Premier League   22  15.1   \n1      Yunis Abdelhamid     DF          Reims         Ligue 1   35  16.0   \n2     Salis Abdul Samed     MF           Lens         Ligue 1   22  16.0   \n3       Laurent Abergel     MF        Lorient         Ligue 1   29   9.8   \n4     Zakaria Aboukhlal  FW,MF       Toulouse         Ligue 1   22  13.2   \n...                 ...    ...            ...             ...  ...   ...   \n1316         Kurt Zouma     DF       West Ham  Premier League   28  13.2   \n1317      Igor Zubeldia     DF  Real Sociedad         La Liga   25   9.0   \n1318   Martín Zubimendi     MF  Real Sociedad         La Liga   23  13.8   \n1319    Martin Ødegaard     MF        Arsenal  Premier League   24  13.9   \n1320      Filip Đuričić  MF,FW      Sampdoria         Serie A   30  11.2   \n\n         Sh_pT  SoT%  Dist  npxG/Sh  ...  Pass_Att3rd_p90a  PPA_p90a  \\\n0     0.031532  19.0  19.1     0.10  ...          3.776588  1.079025   \n1     0.017503   0.0  12.0     0.09  ...          6.308685  0.293427   \n2     0.008007  33.3  20.4     0.07  ...          9.271379  1.090750   \n3     0.007590   0.0  23.9     0.05  ...          8.619886  0.698910   \n4     0.074844  33.3  18.5     0.10  ...          1.500150  0.750075   \n...        ...   ...   ...      ...  ...               ...       ...   \n1316  0.014493  30.0  10.8     0.11  ...          1.478998  0.328666   \n1317  0.007105  25.0  18.2     0.12  ...          4.189108  0.398963   \n1318  0.006075  40.0  19.1     0.11  ...          9.497047  1.040772   \n1319  0.045735  35.1  19.0     0.13  ...          6.344131  4.440892   \n1320  0.016771  50.0  18.1     0.08  ...          5.405971  2.615792   \n\n      SCA_LivePass_p90a  SCA_Drib_p90a  SCA_Def_p90a  Blocks_p90a  Int_p90a  \\\n0              5.260247       0.539513      0.134878     3.122601  0.130108   \n1              1.760563       0.000000      0.293427     3.484321  4.028746   \n2              2.181501       0.218150      0.109075     2.781030  2.634660   \n3              2.795639       0.000000      0.232970     2.360375  2.360375   \n4              2.550255       0.450045      0.000000     1.224365  1.530456   \n...                 ...            ...           ...          ...       ...   \n1316           0.492999       0.000000      0.000000     0.843313  1.827177   \n1317           0.598444       0.000000      0.000000     2.758967  2.508151   \n1318           2.081545       0.000000      0.000000     3.271502  2.290051   \n1319           6.471014       0.253765      0.126883     1.163042  0.332298   \n1320           4.534040       0.348772      0.000000     0.731850  0.914813   \n\n      Clr_p90a  Fls_pDefAct  Fld_pTouch  \n0     0.650542     0.101266    0.049550  \n1     5.008711     0.122807    0.010502  \n2     1.902810     0.402062    0.020463  \n3     1.815673     0.087379    0.017078  \n4     0.918274     0.358491    0.041580  \n...        ...          ...         ...  \n1316  9.557542     0.061856    0.004348  \n1317  9.781791     0.227848    0.010657  \n1318  4.580103     0.220000    0.013366  \n1319  0.830744     0.358974    0.012361  \n1320  0.182963     0.450000    0.060797  \n\n[1321 rows x 75 columns]",
      "text/html": "<div>\n<style scoped>\n    .dataframe tbody tr th:only-of-type {\n        vertical-align: middle;\n    }\n\n    .dataframe tbody tr th {\n        vertical-align: top;\n    }\n\n    .dataframe thead th {\n        text-align: right;\n    }\n</style>\n<table border=\"1\" class=\"dataframe\">\n  <thead>\n    <tr style=\"text-align: right;\">\n      <th></th>\n      <th>Player</th>\n      <th>Pos</th>\n      <th>Squad</th>\n      <th>Comp</th>\n      <th>Age</th>\n      <th>90s</th>\n      <th>Sh_pT</th>\n      <th>SoT%</th>\n      <th>Dist</th>\n      <th>npxG/Sh</th>\n      <th>...</th>\n      <th>Pass_Att3rd_p90a</th>\n      <th>PPA_p90a</th>\n      <th>SCA_LivePass_p90a</th>\n      <th>SCA_Drib_p90a</th>\n      <th>SCA_Def_p90a</th>\n      <th>Blocks_p90a</th>\n      <th>Int_p90a</th>\n      <th>Clr_p90a</th>\n      <th>Fls_pDefAct</th>\n      <th>Fld_pTouch</th>\n    </tr>\n  </thead>\n  <tbody>\n    <tr>\n      <th>0</th>\n      <td>Brenden Aaronson</td>\n      <td>MF,FW</td>\n      <td>Leeds United</td>\n      <td>Premier League</td>\n      <td>22</td>\n      <td>15.1</td>\n      <td>0.031532</td>\n      <td>19.0</td>\n      <td>19.1</td>\n      <td>0.10</td>\n      <td>...</td>\n      <td>3.776588</td>\n      <td>1.079025</td>\n      <td>5.260247</td>\n      <td>0.539513</td>\n      <td>0.134878</td>\n      <td>3.122601</td>\n      <td>0.130108</td>\n      <td>0.650542</td>\n      <td>0.101266</td>\n      <td>0.049550</td>\n    </tr>\n    <tr>\n      <th>1</th>\n      <td>Yunis Abdelhamid</td>\n      <td>DF</td>\n      <td>Reims</td>\n      <td>Ligue 1</td>\n      <td>35</td>\n      <td>16.0</td>\n      <td>0.017503</td>\n      <td>0.0</td>\n      <td>12.0</td>\n      <td>0.09</td>\n      <td>...</td>\n      <td>6.308685</td>\n      <td>0.293427</td>\n      <td>1.760563</td>\n      <td>0.000000</td>\n      <td>0.293427</td>\n      <td>3.484321</td>\n      <td>4.028746</td>\n      <td>5.008711</td>\n      <td>0.122807</td>\n      <td>0.010502</td>\n    </tr>\n    <tr>\n      <th>2</th>\n      <td>Salis Abdul Samed</td>\n      <td>MF</td>\n      <td>Lens</td>\n      <td>Ligue 1</td>\n      <td>22</td>\n      <td>16.0</td>\n      <td>0.008007</td>\n      <td>33.3</td>\n      <td>20.4</td>\n      <td>0.07</td>\n      <td>...</td>\n      <td>9.271379</td>\n      <td>1.090750</td>\n      <td>2.181501</td>\n      <td>0.218150</td>\n      <td>0.109075</td>\n      <td>2.781030</td>\n      <td>2.634660</td>\n      <td>1.902810</td>\n      <td>0.402062</td>\n      <td>0.020463</td>\n    </tr>\n    <tr>\n      <th>3</th>\n      <td>Laurent Abergel</td>\n      <td>MF</td>\n      <td>Lorient</td>\n      <td>Ligue 1</td>\n      <td>29</td>\n      <td>9.8</td>\n      <td>0.007590</td>\n      <td>0.0</td>\n      <td>23.9</td>\n      <td>0.05</td>\n      <td>...</td>\n      <td>8.619886</td>\n      <td>0.698910</td>\n      <td>2.795639</td>\n      <td>0.000000</td>\n      <td>0.232970</td>\n      <td>2.360375</td>\n      <td>2.360375</td>\n      <td>1.815673</td>\n      <td>0.087379</td>\n      <td>0.017078</td>\n    </tr>\n    <tr>\n      <th>4</th>\n      <td>Zakaria Aboukhlal</td>\n      <td>FW,MF</td>\n      <td>Toulouse</td>\n      <td>Ligue 1</td>\n      <td>22</td>\n      <td>13.2</td>\n      <td>0.074844</td>\n      <td>33.3</td>\n      <td>18.5</td>\n      <td>0.10</td>\n      <td>...</td>\n      <td>1.500150</td>\n      <td>0.750075</td>\n      <td>2.550255</td>\n      <td>0.450045</td>\n      <td>0.000000</td>\n      <td>1.224365</td>\n      <td>1.530456</td>\n      <td>0.918274</td>\n      <td>0.358491</td>\n      <td>0.041580</td>\n    </tr>\n    <tr>\n      <th>...</th>\n      <td>...</td>\n      <td>...</td>\n      <td>...</td>\n      <td>...</td>\n      <td>...</td>\n      <td>...</td>\n      <td>...</td>\n      <td>...</td>\n      <td>...</td>\n      <td>...</td>\n      <td>...</td>\n      <td>...</td>\n      <td>...</td>\n      <td>...</td>\n      <td>...</td>\n      <td>...</td>\n      <td>...</td>\n      <td>...</td>\n      <td>...</td>\n      <td>...</td>\n      <td>...</td>\n    </tr>\n    <tr>\n      <th>1316</th>\n      <td>Kurt Zouma</td>\n      <td>DF</td>\n      <td>West Ham</td>\n      <td>Premier League</td>\n      <td>28</td>\n      <td>13.2</td>\n      <td>0.014493</td>\n      <td>30.0</td>\n      <td>10.8</td>\n      <td>0.11</td>\n      <td>...</td>\n      <td>1.478998</td>\n      <td>0.328666</td>\n      <td>0.492999</td>\n      <td>0.000000</td>\n      <td>0.000000</td>\n      <td>0.843313</td>\n      <td>1.827177</td>\n      <td>9.557542</td>\n      <td>0.061856</td>\n      <td>0.004348</td>\n    </tr>\n    <tr>\n      <th>1317</th>\n      <td>Igor Zubeldia</td>\n      <td>DF</td>\n      <td>Real Sociedad</td>\n      <td>La Liga</td>\n      <td>25</td>\n      <td>9.0</td>\n      <td>0.007105</td>\n      <td>25.0</td>\n      <td>18.2</td>\n      <td>0.12</td>\n      <td>...</td>\n      <td>4.189108</td>\n      <td>0.398963</td>\n      <td>0.598444</td>\n      <td>0.000000</td>\n      <td>0.000000</td>\n      <td>2.758967</td>\n      <td>2.508151</td>\n      <td>9.781791</td>\n      <td>0.227848</td>\n      <td>0.010657</td>\n    </tr>\n    <tr>\n      <th>1318</th>\n      <td>Martín Zubimendi</td>\n      <td>MF</td>\n      <td>Real Sociedad</td>\n      <td>La Liga</td>\n      <td>23</td>\n      <td>13.8</td>\n      <td>0.006075</td>\n      <td>40.0</td>\n      <td>19.1</td>\n      <td>0.11</td>\n      <td>...</td>\n      <td>9.497047</td>\n      <td>1.040772</td>\n      <td>2.081545</td>\n      <td>0.000000</td>\n      <td>0.000000</td>\n      <td>3.271502</td>\n      <td>2.290051</td>\n      <td>4.580103</td>\n      <td>0.220000</td>\n      <td>0.013366</td>\n    </tr>\n    <tr>\n      <th>1319</th>\n      <td>Martin Ødegaard</td>\n      <td>MF</td>\n      <td>Arsenal</td>\n      <td>Premier League</td>\n      <td>24</td>\n      <td>13.9</td>\n      <td>0.045735</td>\n      <td>35.1</td>\n      <td>19.0</td>\n      <td>0.13</td>\n      <td>...</td>\n      <td>6.344131</td>\n      <td>4.440892</td>\n      <td>6.471014</td>\n      <td>0.253765</td>\n      <td>0.126883</td>\n      <td>1.163042</td>\n      <td>0.332298</td>\n      <td>0.830744</td>\n      <td>0.358974</td>\n      <td>0.012361</td>\n    </tr>\n    <tr>\n      <th>1320</th>\n      <td>Filip Đuričić</td>\n      <td>MF,FW</td>\n      <td>Sampdoria</td>\n      <td>Serie A</td>\n      <td>30</td>\n      <td>11.2</td>\n      <td>0.016771</td>\n      <td>50.0</td>\n      <td>18.1</td>\n      <td>0.08</td>\n      <td>...</td>\n      <td>5.405971</td>\n      <td>2.615792</td>\n      <td>4.534040</td>\n      <td>0.348772</td>\n      <td>0.000000</td>\n      <td>0.731850</td>\n      <td>0.914813</td>\n      <td>0.182963</td>\n      <td>0.450000</td>\n      <td>0.060797</td>\n    </tr>\n  </tbody>\n</table>\n<p>1321 rows × 75 columns</p>\n</div>"
     },
     "execution_count": 16,
     "metadata": {},
     "output_type": "execute_result"
    }
   ],
   "source": [
    "test = pd.read_csv(\"current_season_data.csv\")\n",
    "test = fpf.alter_columns_per_x(test)\n",
    "test"
   ],
   "metadata": {
    "collapsed": false,
    "pycharm": {
     "name": "#%%\n"
    }
   }
  },
  {
   "cell_type": "code",
   "execution_count": 19,
   "outputs": [
    {
     "data": {
      "text/plain": "Dist                     -0.893591\nnpxG/Sh                   1.517746\nxAG_pKP                   0.651539\nxA_pCPass                 1.516799\nKP_pCPass                 0.945483\nPass_Att3rd_pCPass       -0.379884\nPPA_pCPass                1.171904\nProg_Pass_pPass           0.571548\nSwitch_pPass             -0.449257\nCrs_pPass                -0.172441\nSCA_LivePass_pPass        1.175665\nPass_Total_Dist_pCPass   -0.565754\nPass_Prg_Dist_pCPass     -0.522755\nPass_Short_Att_pPass      0.298662\nPass_Medium_Att_pPass    -0.208927\nPass_Long_Att_pPass      -0.706057\nSCA_Def_pDefAct          -0.024547\nTackles_pDefAct          -0.043540\nTkl_vsDrib_pDefAct       -0.073382\nBlocks_pDefAct            0.163660\nBlocksSh_pBlock          -0.011262\nBlocksPass_pBlock         0.011479\nInt_pDefAct              -0.047438\nClr_pDefAct               0.018905\nFls_pDefAct              -0.176336\nDribbles_Att_pTouch      -0.000618\nPass_Rec_p90a            -0.109876\nProg_Pass_Rec_pRec        0.116528\nFld_pTouch                0.023034\nRecov_p90                -0.124210\nSCA_Drib_pDrib            0.212487\nAerial Duels_p90         -0.023453\nSh_pT                     0.265239\nPass_Att_pTouch          -0.085982\nName: 516, dtype: float64"
     },
     "execution_count": 19,
     "metadata": {},
     "output_type": "execute_result"
    }
   ],
   "source": [
    "test.iloc[516]"
   ],
   "metadata": {
    "collapsed": false,
    "pycharm": {
     "name": "#%%\n"
    }
   }
  },
  {
   "cell_type": "code",
   "execution_count": 23,
   "outputs": [],
   "source": [],
   "metadata": {
    "collapsed": false,
    "pycharm": {
     "name": "#%%\n"
    }
   }
  }
 ],
 "metadata": {
  "kernelspec": {
   "display_name": "Python 3",
   "language": "python",
   "name": "python3"
  },
  "language_info": {
   "codemirror_mode": {
    "name": "ipython",
    "version": 2
   },
   "file_extension": ".py",
   "mimetype": "text/x-python",
   "name": "python",
   "nbconvert_exporter": "python",
   "pygments_lexer": "ipython2",
   "version": "2.7.6"
  }
 },
 "nbformat": 4,
 "nbformat_minor": 0
}