{
 "cells": [
  {
   "cell_type": "code",
   "execution_count": 1,
   "metadata": {
    "collapsed": true
   },
   "outputs": [],
   "source": [
    "import pandas as pd\n",
    "import json\n",
    "\n",
    "import footballer_profiling_functions as fpf"
   ]
  },
  {
   "cell_type": "code",
   "execution_count": 2,
   "outputs": [],
   "source": [
    "# run this cell to edit columns used in program\n",
    "\n",
    "#positional_columns=[\"Touches_Def_Pen_pTouch\",\"Touches_Def_3rd_pTouch\",\"Touches_Mid_3rd_pTouch\",\"Touches_Att_3rd_pTouch\",\"Touches_Att_Pen_pTouch\"]\n",
    "#defensive_positional_columns=[\"Tkl_Def_3rd_pTkl\",\"Tkl_Mid_3rd_pTkl\",\"Tkl_Att_3rd_pTkl\"]\n",
    "#shooting_type_columns=[\"Dist\",\"npxG/Sh\"]   # to scale with Sh_pT\n",
    "#attacking_pass_types_columns=[\"xAG_pKP\",\"xA_pCPass\",\"KP_pCPass\",\"Pass_Att3rd_pCPass\",\"PPA_pCPass\",\"Prog_Pass_pCPass\",\"Switch_pPass\",\"Crs_pPass\",\"SCA_LivePass_pPass\"]   # to scale with Pass_Att_pTouch\n",
    "#pass_type_columns=[\"Pass_Total_Dist_pCPass\",\"Pass_Prg_Dist%\",\"Pass_Short_Att_pPass\",\"Pass_Medium_Att_pPass\",\"Pass_Long_Att_pPass\"]   # to scale with Pass_Att_pTouch\n",
    "#defense_type_columns=[\"SCA_Def_pDefAct\",\"Tackles_pDefAct\",\"Tkl_vsDrib_pDefAct\",\"Blocks_pDefAct\",\"BlocksSh_pBlock\",\"BlocksPass_pBlock\",\"Int_pDefAct\",\"Clr_pDefAct\",\"Fls_pDefAct\"]   # to scale with Def_Actions_p90a\n",
    "#carrying_type_columns=[\"Carries_Total_Dist_pCar\",\"Carries_Prg_Dist%\",\"Carries_Prg_pCar\",\"Carries_Att3rd_pCar\",\"CPA_pCar\",\"Pass_Rec_p90a\",\"Prog_Pass_Rec_pRec\",\"Fld_pTouch\",\"Recov_p90\"]    # to scale with Carries_pTouch\n",
    "#weighted_player_type_columns=shooting_type_columns+attacking_pass_types_columns+pass_type_columns+defense_type_columns+carrying_type_columns+[\"SCA_TO_pTO\",\"Aerial Duels_p90\"]  # player type columns to be weighted\n",
    "#player_type_columns=weighted_player_type_columns+[\"Sh_pT\",\"Pass_Att_pTouch\",\"Take-Ons_Att_pTouch\",\"Carries_pTouch\"]   # all player type columns to use\n",
    "#player_type_columns_weights_columns=[\"Sh_pT\",\"Pass_Att_pTouch\",\"Touches_p90a\",\"Def_Actions_p90a\",\"Take-Ons_Att_pTouch\",\"Carries_pTouch\"]    # weights to be used\n",
    "#player_type_columns_complete = weighted_player_type_columns+player_type_columns_weights_columns    # all player type columns used to normalize or standardize\n",
    "#player_quality_columns = [\"SoT%\",\"npxG/Sh\",\"np:G-xG\",\"Pass_Cmp%\",\"Pass_Short_Cmp%\",\"Pass_Medium_Cmp%\",\"Pass_Long_Cmp%\",\"xAG_p90a\",\"xA_p90a\",\"KP_p90a\",\"Pass_Att3rd_p90a\",\"PPA_p90a\",\"Cmp_Crs_PA_pCrs\",\"SCA_LivePass_p90a\",\"SCA_TO_p90a\",\"SCA_Def_p90a\",\"TklW%\",\"Tkl_vsDrib%\",\"Blocks_p90a\",\"Int_p90a\",\"Clr_p90a\",\"Take-Ons_Succ%\",\"Take-Ons_Tkld%\",\"Pass_Rec_p90a\",\"Fls_p90a\",\"Fld_p90a\",\"Recov_p90\",\"Aerial DuelsWon%\"]\n",
    "\n",
    "# saves columns to be used use into file columns_dict.json\n",
    "#cols_dict = {'positional':positional_columns,'defensive_positional':defensive_positional_columns,'shooting':shooting_type_columns,'attacking_pass':attacking_pass_types_columns,'passing':pass_type_columns,'defense':defense_type_columns,'carrying':carrying_type_columns,'weighted_type':weighted_player_type_columns,'player_type':player_type_columns,'weights':player_type_columns_weights_columns,'player_quality':player_quality_columns}\n",
    "#with open(\"columns_dict.json\", \"w\") as fp:\n",
    "#    json.dump(cols_dict, fp)"
   ],
   "metadata": {
    "collapsed": false,
    "pycharm": {
     "name": "#%%\n"
    }
   }
  },
  {
   "cell_type": "code",
   "execution_count": 2,
   "outputs": [],
   "source": [
    "season = 2022"
   ],
   "metadata": {
    "collapsed": false,
    "pycharm": {
     "name": "#%%\n"
    }
   }
  },
  {
   "cell_type": "code",
   "execution_count": 3,
   "outputs": [
    {
     "name": "stderr",
     "output_type": "stream",
     "text": [
      "C:\\Users\\mail4\\DataspellProjects\\Footballer_Profiling\\footballer_profiling_functions.py:450: SettingWithCopyWarning: \n",
      "A value is trying to be set on a copy of a slice from a DataFrame.\n",
      "Try using .loc[row_indexer,col_indexer] = value instead\n",
      "\n",
      "See the caveats in the documentation: https://pandas.pydata.org/pandas-docs/stable/user_guide/indexing.html#returning-a-view-versus-a-copy\n",
      "  player_quality_df.loc[:, \"Fls_p90a\"] = player_quality_df.loc[:, \"Fls_p90a\"] * -1\n",
      "C:\\Users\\mail4\\DataspellProjects\\Footballer_Profiling\\footballer_profiling_functions.py:451: SettingWithCopyWarning: \n",
      "A value is trying to be set on a copy of a slice from a DataFrame.\n",
      "Try using .loc[row_indexer,col_indexer] = value instead\n",
      "\n",
      "See the caveats in the documentation: https://pandas.pydata.org/pandas-docs/stable/user_guide/indexing.html#returning-a-view-versus-a-copy\n",
      "  player_quality_df.loc[:, \"Take-Ons_Tkld%\"] = player_quality_df.loc[:, \"Take-Ons_Tkld%\"] * -1\n",
      "C:\\Users\\mail4\\DataspellProjects\\Footballer_Profiling\\footballer_profiling_functions.py:454: SettingWithCopyWarning: \n",
      "A value is trying to be set on a copy of a slice from a DataFrame.\n",
      "Try using .loc[row_indexer,col_indexer] = value instead\n",
      "\n",
      "See the caveats in the documentation: https://pandas.pydata.org/pandas-docs/stable/user_guide/indexing.html#returning-a-view-versus-a-copy\n",
      "  df[\"Fls_pDefAct\"] = df[\"Fls_pDefAct\"] * -1\n",
      "C:\\Users\\mail4\\DataspellProjects\\Footballer_Profiling\\footballer_profiling_functions.py:459: SettingWithCopyWarning: \n",
      "A value is trying to be set on a copy of a slice from a DataFrame.\n",
      "Try using .loc[row_indexer,col_indexer] = value instead\n",
      "\n",
      "See the caveats in the documentation: https://pandas.pydata.org/pandas-docs/stable/user_guide/indexing.html#returning-a-view-versus-a-copy\n",
      "  df[column] = df[column] * weights[\"Sh_pT\"]\n",
      "C:\\Users\\mail4\\DataspellProjects\\Footballer_Profiling\\footballer_profiling_functions.py:461: SettingWithCopyWarning: \n",
      "A value is trying to be set on a copy of a slice from a DataFrame.\n",
      "Try using .loc[row_indexer,col_indexer] = value instead\n",
      "\n",
      "See the caveats in the documentation: https://pandas.pydata.org/pandas-docs/stable/user_guide/indexing.html#returning-a-view-versus-a-copy\n",
      "  df[column] = df[column] * weights[\"Pass_Att_pTouch\"]\n",
      "C:\\Users\\mail4\\DataspellProjects\\Footballer_Profiling\\footballer_profiling_functions.py:463: SettingWithCopyWarning: \n",
      "A value is trying to be set on a copy of a slice from a DataFrame.\n",
      "Try using .loc[row_indexer,col_indexer] = value instead\n",
      "\n",
      "See the caveats in the documentation: https://pandas.pydata.org/pandas-docs/stable/user_guide/indexing.html#returning-a-view-versus-a-copy\n",
      "  df[column] = df[column] * weights[\"Def_Actions_p90a\"]\n",
      "C:\\Users\\mail4\\DataspellProjects\\Footballer_Profiling\\footballer_profiling_functions.py:464: SettingWithCopyWarning: \n",
      "A value is trying to be set on a copy of a slice from a DataFrame.\n",
      "Try using .loc[row_indexer,col_indexer] = value instead\n",
      "\n",
      "See the caveats in the documentation: https://pandas.pydata.org/pandas-docs/stable/user_guide/indexing.html#returning-a-view-versus-a-copy\n",
      "  df[\"SCA_TO_pTO\"] = df[\"SCA_TO_pTO\"] * weights[\"Take-Ons_Att_pTouch\"]\n",
      "C:\\Users\\mail4\\DataspellProjects\\Footballer_Profiling\\footballer_profiling_functions.py:466: SettingWithCopyWarning: \n",
      "A value is trying to be set on a copy of a slice from a DataFrame.\n",
      "Try using .loc[row_indexer,col_indexer] = value instead\n",
      "\n",
      "See the caveats in the documentation: https://pandas.pydata.org/pandas-docs/stable/user_guide/indexing.html#returning-a-view-versus-a-copy\n",
      "  df[column] = df[column] * weights[\"Carries_pTouch\"]\n",
      "C:\\Users\\mail4\\DataspellProjects\\Footballer_Profiling\\footballer_profiling_functions.py:468: SettingWithCopyWarning: \n",
      "A value is trying to be set on a copy of a slice from a DataFrame.\n",
      "Try using .loc[row_indexer,col_indexer] = value instead\n",
      "\n",
      "See the caveats in the documentation: https://pandas.pydata.org/pandas-docs/stable/user_guide/indexing.html#returning-a-view-versus-a-copy\n",
      "  df[column] = df[column] * weights[\"Touches_p90a\"]\n"
     ]
    },
    {
     "name": "stdout",
     "output_type": "stream",
     "text": [
      "setup completed\n"
     ]
    }
   ],
   "source": [
    "# run this cell to set up new player type clusters      - last update 05.03.2023\n",
    "\n",
    "#fpf.setup_clusters(season, 20)"
   ],
   "metadata": {
    "collapsed": false,
    "pycharm": {
     "name": "#%%\n"
    }
   }
  },
  {
   "cell_type": "code",
   "execution_count": 3,
   "outputs": [],
   "source": [
    "# run this cell to edit player types names\n",
    "\n",
    "#names = {\"W\":\"Winger\", \"NFB\":\"No-Nonsense Full Back\", \"P\":\"Poacher\", \"IW\":\"Inverted Winger\", \"BTB\":\"Box-To-Box\", \"WB\":\"Wing Back\", \"LB\":\"Long Ball Specialist\", \"AF\":\"Advanced Forward\", \"S\":\"Stopper\", \"AP\":\"Advanced Playmaker\", \"BPD\":\"Ball Playing Defender\", \"MEZ\":\"Mezzala\", \"DM\":\"Defensive Midfielder\", \"AM\":\"Anchor Man\", \"NCB\":\"No-Nonsense Center Back\", \"FB\":\"Full Back\", \"IWB\":\"Inverted Full Back\", \"WP\":\"Wide Playmaker\", \"TM\":\"Target Man\", \"BWM\":\"Ball-Winning Midfielder\"}\n",
    "#with open(\"player_type_names.json\", \"w\") as fp:\n",
    "#    json.dump(names,fp)"
   ],
   "metadata": {
    "collapsed": false,
    "pycharm": {
     "name": "#%%\n"
    }
   }
  },
  {
   "cell_type": "code",
   "execution_count": 3,
   "outputs": [
    {
     "name": "stdout",
     "output_type": "stream",
     "text": [
      "Loading data.\n"
     ]
    },
    {
     "name": "stderr",
     "output_type": "stream",
     "text": [
      "C:\\Users\\mail4\\DataspellProjects\\Footballer_Profiling\\footballer_profiling_functions.py:450: SettingWithCopyWarning: \n",
      "A value is trying to be set on a copy of a slice from a DataFrame.\n",
      "Try using .loc[row_indexer,col_indexer] = value instead\n",
      "\n",
      "See the caveats in the documentation: https://pandas.pydata.org/pandas-docs/stable/user_guide/indexing.html#returning-a-view-versus-a-copy\n",
      "  player_quality_df.loc[:, \"Fls_p90a\"] = player_quality_df.loc[:, \"Fls_p90a\"] * -1\n",
      "C:\\Users\\mail4\\DataspellProjects\\Footballer_Profiling\\footballer_profiling_functions.py:451: SettingWithCopyWarning: \n",
      "A value is trying to be set on a copy of a slice from a DataFrame.\n",
      "Try using .loc[row_indexer,col_indexer] = value instead\n",
      "\n",
      "See the caveats in the documentation: https://pandas.pydata.org/pandas-docs/stable/user_guide/indexing.html#returning-a-view-versus-a-copy\n",
      "  player_quality_df.loc[:, \"Take-Ons_Tkld%\"] = player_quality_df.loc[:, \"Take-Ons_Tkld%\"] * -1\n",
      "C:\\Users\\mail4\\DataspellProjects\\Footballer_Profiling\\footballer_profiling_functions.py:454: SettingWithCopyWarning: \n",
      "A value is trying to be set on a copy of a slice from a DataFrame.\n",
      "Try using .loc[row_indexer,col_indexer] = value instead\n",
      "\n",
      "See the caveats in the documentation: https://pandas.pydata.org/pandas-docs/stable/user_guide/indexing.html#returning-a-view-versus-a-copy\n",
      "  df[\"Fls_pDefAct\"] = df[\"Fls_pDefAct\"] * -1\n",
      "C:\\Users\\mail4\\DataspellProjects\\Footballer_Profiling\\footballer_profiling_functions.py:459: SettingWithCopyWarning: \n",
      "A value is trying to be set on a copy of a slice from a DataFrame.\n",
      "Try using .loc[row_indexer,col_indexer] = value instead\n",
      "\n",
      "See the caveats in the documentation: https://pandas.pydata.org/pandas-docs/stable/user_guide/indexing.html#returning-a-view-versus-a-copy\n",
      "  df[column] = df[column] * weights[\"Sh_pT\"]\n",
      "C:\\Users\\mail4\\DataspellProjects\\Footballer_Profiling\\footballer_profiling_functions.py:461: SettingWithCopyWarning: \n",
      "A value is trying to be set on a copy of a slice from a DataFrame.\n",
      "Try using .loc[row_indexer,col_indexer] = value instead\n",
      "\n",
      "See the caveats in the documentation: https://pandas.pydata.org/pandas-docs/stable/user_guide/indexing.html#returning-a-view-versus-a-copy\n",
      "  df[column] = df[column] * weights[\"Pass_Att_pTouch\"]\n",
      "C:\\Users\\mail4\\DataspellProjects\\Footballer_Profiling\\footballer_profiling_functions.py:463: SettingWithCopyWarning: \n",
      "A value is trying to be set on a copy of a slice from a DataFrame.\n",
      "Try using .loc[row_indexer,col_indexer] = value instead\n",
      "\n",
      "See the caveats in the documentation: https://pandas.pydata.org/pandas-docs/stable/user_guide/indexing.html#returning-a-view-versus-a-copy\n",
      "  df[column] = df[column] * weights[\"Def_Actions_p90a\"]\n",
      "C:\\Users\\mail4\\DataspellProjects\\Footballer_Profiling\\footballer_profiling_functions.py:464: SettingWithCopyWarning: \n",
      "A value is trying to be set on a copy of a slice from a DataFrame.\n",
      "Try using .loc[row_indexer,col_indexer] = value instead\n",
      "\n",
      "See the caveats in the documentation: https://pandas.pydata.org/pandas-docs/stable/user_guide/indexing.html#returning-a-view-versus-a-copy\n",
      "  df[\"SCA_TO_pTO\"] = df[\"SCA_TO_pTO\"] * weights[\"Take-Ons_Att_pTouch\"]\n",
      "C:\\Users\\mail4\\DataspellProjects\\Footballer_Profiling\\footballer_profiling_functions.py:466: SettingWithCopyWarning: \n",
      "A value is trying to be set on a copy of a slice from a DataFrame.\n",
      "Try using .loc[row_indexer,col_indexer] = value instead\n",
      "\n",
      "See the caveats in the documentation: https://pandas.pydata.org/pandas-docs/stable/user_guide/indexing.html#returning-a-view-versus-a-copy\n",
      "  df[column] = df[column] * weights[\"Carries_pTouch\"]\n",
      "C:\\Users\\mail4\\DataspellProjects\\Footballer_Profiling\\footballer_profiling_functions.py:468: SettingWithCopyWarning: \n",
      "A value is trying to be set on a copy of a slice from a DataFrame.\n",
      "Try using .loc[row_indexer,col_indexer] = value instead\n",
      "\n",
      "See the caveats in the documentation: https://pandas.pydata.org/pandas-docs/stable/user_guide/indexing.html#returning-a-view-versus-a-copy\n",
      "  df[column] = df[column] * weights[\"Touches_p90a\"]\n"
     ]
    },
    {
     "name": "stdout",
     "output_type": "stream",
     "text": [
      "Calculating Player Fitness.\n",
      "Calculating Player Quality\n",
      "Getting Market Values.\n",
      "Setup Completed.\n"
     ]
    }
   ],
   "source": [
    "# run this cell to set up data to scout players     - last update 19.03.2023\n",
    "\n",
    "fpf.setup_current_season(season)"
   ],
   "metadata": {
    "collapsed": false,
    "pycharm": {
     "name": "#%%\n"
    }
   }
  },
  {
   "cell_type": "code",
   "execution_count": 4,
   "outputs": [
    {
     "data": {
      "text/plain": "                 Player    Pos          Squad            Comp  Age   90s  \\\n0      Brenden Aaronson  MF,FW   Leeds United  Premier League   22  21.6   \n1      Yunis Abdelhamid     DF          Reims         Ligue 1   35  27.0   \n2         Himad Abdelli  MF,FW         Angers         Ligue 1   23  14.0   \n3     Salis Abdul Samed     MF           Lens         Ligue 1   22  26.0   \n4       Laurent Abergel     MF        Lorient         Ligue 1   30  16.2   \n...                 ...    ...            ...             ...  ...   ...   \n1679      Igor Zubeldia     DF  Real Sociedad         La Liga   25  18.0   \n1680   Martín Zubimendi     MF  Real Sociedad         La Liga   24  22.8   \n1681    Martin Ødegaard     MF        Arsenal  Premier League   24  24.6   \n1682        Milan Đurić     FW  Hellas Verona         Serie A   32   8.1   \n1683      Filip Đuričić  MF,FW      Sampdoria         Serie A   31  17.3   \n\n        Quality      Fit_W     Qual_W    Fit_NFB  ...    Qual_FB    Fit_IWB  \\\n0     33.876200  37.841367  28.155617  43.802146  ...  32.187422  48.555601   \n1     48.474521   0.000000  40.707594  39.763841  ...  45.009976  27.060762   \n2     59.866431  20.376638  48.563396  41.347170  ...  60.476541  44.474836   \n3     51.676967   0.000000  48.941620  31.018363  ...  46.946047  40.489158   \n4     52.140125   0.000000  39.090491  41.216179  ...  48.362468  42.027636   \n...         ...        ...        ...        ...  ...        ...        ...   \n1679  41.113224   0.000000  57.417655  37.243357  ...  44.386845  28.067820   \n1680  42.630016   0.595232  37.003662  60.698184  ...  39.043346  53.704743   \n1681  59.716456  29.495487  42.058783  30.803992  ...  55.475008  30.895115   \n1682  25.952734   0.000000  17.522921  18.565287  ...  21.958608  25.597323   \n1683  45.146832  39.124498  43.198203  46.690098  ...  43.747242  46.391413   \n\n       Qual_IWB     Fit_WP    Qual_WP     Fit_TM    Qual_TM    Fit_BWM  \\\n0     35.452224  55.302283  29.454986  65.648414  22.840818  39.919214   \n1     44.878116   7.740470  42.116889   9.580350  46.375878  47.099910   \n2     59.745210  40.525442  55.744597  34.846698  45.162699  49.619593   \n3     45.789875   5.219559  50.285995  23.437320  45.995599  51.442138   \n4     49.780031  13.416261  41.729411  22.658735  34.910100  55.036560   \n...         ...        ...        ...        ...        ...        ...   \n1679  40.727414   0.000000  52.439507   7.209197  55.499926  37.875536   \n1680  38.470247  21.862242  38.145676  32.806630  44.077458  70.814807   \n1681  58.497224  58.706614  48.553878  42.153713  41.771867  26.076528   \n1682  17.057699   8.859177  23.221476  44.644628  28.208802  20.151585   \n1683  42.221374  57.731901  44.732211  56.814917  42.698317  44.943934   \n\n       Qual_BWM  Value  \n0     31.789100    1.0  \n1     50.492223    1.0  \n2     59.815653    1.0  \n3     47.677240    1.0  \n4     50.340976    1.0  \n...         ...    ...  \n1679  41.786439    1.0  \n1680  41.800850    1.0  \n1681  53.477849    1.0  \n1682  18.647847    1.0  \n1683  41.543500    1.0  \n\n[1684 rows x 48 columns]",
      "text/html": "<div>\n<style scoped>\n    .dataframe tbody tr th:only-of-type {\n        vertical-align: middle;\n    }\n\n    .dataframe tbody tr th {\n        vertical-align: top;\n    }\n\n    .dataframe thead th {\n        text-align: right;\n    }\n</style>\n<table border=\"1\" class=\"dataframe\">\n  <thead>\n    <tr style=\"text-align: right;\">\n      <th></th>\n      <th>Player</th>\n      <th>Pos</th>\n      <th>Squad</th>\n      <th>Comp</th>\n      <th>Age</th>\n      <th>90s</th>\n      <th>Quality</th>\n      <th>Fit_W</th>\n      <th>Qual_W</th>\n      <th>Fit_NFB</th>\n      <th>...</th>\n      <th>Qual_FB</th>\n      <th>Fit_IWB</th>\n      <th>Qual_IWB</th>\n      <th>Fit_WP</th>\n      <th>Qual_WP</th>\n      <th>Fit_TM</th>\n      <th>Qual_TM</th>\n      <th>Fit_BWM</th>\n      <th>Qual_BWM</th>\n      <th>Value</th>\n    </tr>\n  </thead>\n  <tbody>\n    <tr>\n      <th>0</th>\n      <td>Brenden Aaronson</td>\n      <td>MF,FW</td>\n      <td>Leeds United</td>\n      <td>Premier League</td>\n      <td>22</td>\n      <td>21.6</td>\n      <td>33.876200</td>\n      <td>37.841367</td>\n      <td>28.155617</td>\n      <td>43.802146</td>\n      <td>...</td>\n      <td>32.187422</td>\n      <td>48.555601</td>\n      <td>35.452224</td>\n      <td>55.302283</td>\n      <td>29.454986</td>\n      <td>65.648414</td>\n      <td>22.840818</td>\n      <td>39.919214</td>\n      <td>31.789100</td>\n      <td>1.0</td>\n    </tr>\n    <tr>\n      <th>1</th>\n      <td>Yunis Abdelhamid</td>\n      <td>DF</td>\n      <td>Reims</td>\n      <td>Ligue 1</td>\n      <td>35</td>\n      <td>27.0</td>\n      <td>48.474521</td>\n      <td>0.000000</td>\n      <td>40.707594</td>\n      <td>39.763841</td>\n      <td>...</td>\n      <td>45.009976</td>\n      <td>27.060762</td>\n      <td>44.878116</td>\n      <td>7.740470</td>\n      <td>42.116889</td>\n      <td>9.580350</td>\n      <td>46.375878</td>\n      <td>47.099910</td>\n      <td>50.492223</td>\n      <td>1.0</td>\n    </tr>\n    <tr>\n      <th>2</th>\n      <td>Himad Abdelli</td>\n      <td>MF,FW</td>\n      <td>Angers</td>\n      <td>Ligue 1</td>\n      <td>23</td>\n      <td>14.0</td>\n      <td>59.866431</td>\n      <td>20.376638</td>\n      <td>48.563396</td>\n      <td>41.347170</td>\n      <td>...</td>\n      <td>60.476541</td>\n      <td>44.474836</td>\n      <td>59.745210</td>\n      <td>40.525442</td>\n      <td>55.744597</td>\n      <td>34.846698</td>\n      <td>45.162699</td>\n      <td>49.619593</td>\n      <td>59.815653</td>\n      <td>1.0</td>\n    </tr>\n    <tr>\n      <th>3</th>\n      <td>Salis Abdul Samed</td>\n      <td>MF</td>\n      <td>Lens</td>\n      <td>Ligue 1</td>\n      <td>22</td>\n      <td>26.0</td>\n      <td>51.676967</td>\n      <td>0.000000</td>\n      <td>48.941620</td>\n      <td>31.018363</td>\n      <td>...</td>\n      <td>46.946047</td>\n      <td>40.489158</td>\n      <td>45.789875</td>\n      <td>5.219559</td>\n      <td>50.285995</td>\n      <td>23.437320</td>\n      <td>45.995599</td>\n      <td>51.442138</td>\n      <td>47.677240</td>\n      <td>1.0</td>\n    </tr>\n    <tr>\n      <th>4</th>\n      <td>Laurent Abergel</td>\n      <td>MF</td>\n      <td>Lorient</td>\n      <td>Ligue 1</td>\n      <td>30</td>\n      <td>16.2</td>\n      <td>52.140125</td>\n      <td>0.000000</td>\n      <td>39.090491</td>\n      <td>41.216179</td>\n      <td>...</td>\n      <td>48.362468</td>\n      <td>42.027636</td>\n      <td>49.780031</td>\n      <td>13.416261</td>\n      <td>41.729411</td>\n      <td>22.658735</td>\n      <td>34.910100</td>\n      <td>55.036560</td>\n      <td>50.340976</td>\n      <td>1.0</td>\n    </tr>\n    <tr>\n      <th>...</th>\n      <td>...</td>\n      <td>...</td>\n      <td>...</td>\n      <td>...</td>\n      <td>...</td>\n      <td>...</td>\n      <td>...</td>\n      <td>...</td>\n      <td>...</td>\n      <td>...</td>\n      <td>...</td>\n      <td>...</td>\n      <td>...</td>\n      <td>...</td>\n      <td>...</td>\n      <td>...</td>\n      <td>...</td>\n      <td>...</td>\n      <td>...</td>\n      <td>...</td>\n      <td>...</td>\n    </tr>\n    <tr>\n      <th>1679</th>\n      <td>Igor Zubeldia</td>\n      <td>DF</td>\n      <td>Real Sociedad</td>\n      <td>La Liga</td>\n      <td>25</td>\n      <td>18.0</td>\n      <td>41.113224</td>\n      <td>0.000000</td>\n      <td>57.417655</td>\n      <td>37.243357</td>\n      <td>...</td>\n      <td>44.386845</td>\n      <td>28.067820</td>\n      <td>40.727414</td>\n      <td>0.000000</td>\n      <td>52.439507</td>\n      <td>7.209197</td>\n      <td>55.499926</td>\n      <td>37.875536</td>\n      <td>41.786439</td>\n      <td>1.0</td>\n    </tr>\n    <tr>\n      <th>1680</th>\n      <td>Martín Zubimendi</td>\n      <td>MF</td>\n      <td>Real Sociedad</td>\n      <td>La Liga</td>\n      <td>24</td>\n      <td>22.8</td>\n      <td>42.630016</td>\n      <td>0.595232</td>\n      <td>37.003662</td>\n      <td>60.698184</td>\n      <td>...</td>\n      <td>39.043346</td>\n      <td>53.704743</td>\n      <td>38.470247</td>\n      <td>21.862242</td>\n      <td>38.145676</td>\n      <td>32.806630</td>\n      <td>44.077458</td>\n      <td>70.814807</td>\n      <td>41.800850</td>\n      <td>1.0</td>\n    </tr>\n    <tr>\n      <th>1681</th>\n      <td>Martin Ødegaard</td>\n      <td>MF</td>\n      <td>Arsenal</td>\n      <td>Premier League</td>\n      <td>24</td>\n      <td>24.6</td>\n      <td>59.716456</td>\n      <td>29.495487</td>\n      <td>42.058783</td>\n      <td>30.803992</td>\n      <td>...</td>\n      <td>55.475008</td>\n      <td>30.895115</td>\n      <td>58.497224</td>\n      <td>58.706614</td>\n      <td>48.553878</td>\n      <td>42.153713</td>\n      <td>41.771867</td>\n      <td>26.076528</td>\n      <td>53.477849</td>\n      <td>1.0</td>\n    </tr>\n    <tr>\n      <th>1682</th>\n      <td>Milan Đurić</td>\n      <td>FW</td>\n      <td>Hellas Verona</td>\n      <td>Serie A</td>\n      <td>32</td>\n      <td>8.1</td>\n      <td>25.952734</td>\n      <td>0.000000</td>\n      <td>17.522921</td>\n      <td>18.565287</td>\n      <td>...</td>\n      <td>21.958608</td>\n      <td>25.597323</td>\n      <td>17.057699</td>\n      <td>8.859177</td>\n      <td>23.221476</td>\n      <td>44.644628</td>\n      <td>28.208802</td>\n      <td>20.151585</td>\n      <td>18.647847</td>\n      <td>1.0</td>\n    </tr>\n    <tr>\n      <th>1683</th>\n      <td>Filip Đuričić</td>\n      <td>MF,FW</td>\n      <td>Sampdoria</td>\n      <td>Serie A</td>\n      <td>31</td>\n      <td>17.3</td>\n      <td>45.146832</td>\n      <td>39.124498</td>\n      <td>43.198203</td>\n      <td>46.690098</td>\n      <td>...</td>\n      <td>43.747242</td>\n      <td>46.391413</td>\n      <td>42.221374</td>\n      <td>57.731901</td>\n      <td>44.732211</td>\n      <td>56.814917</td>\n      <td>42.698317</td>\n      <td>44.943934</td>\n      <td>41.543500</td>\n      <td>1.0</td>\n    </tr>\n  </tbody>\n</table>\n<p>1684 rows × 48 columns</p>\n</div>"
     },
     "execution_count": 4,
     "metadata": {},
     "output_type": "execute_result"
    }
   ],
   "source": [
    "scouting = pd.read_csv(\"scouting.csv\")\n",
    "scouting"
   ],
   "metadata": {
    "collapsed": false,
    "pycharm": {
     "name": "#%%\n"
    }
   }
  },
  {
   "cell_type": "code",
   "execution_count": 7,
   "outputs": [
    {
     "data": {
      "text/plain": "                    Player    Pos           Squad  Age    Fitness    Quality  \\\n742           Lee Jae-sung     MF        Mainz 05   30  70.214432  57.570249   \n1509        Martin Terrier  FW,MF          Rennes   26  71.064809  55.719133   \n1060       Arkadiusz Milik     FW        Juventus   29  78.085535  52.076081   \n1638           Yoane Wissa     FW       Brentford   26  71.146069  46.922534   \n703            Lucas Höler  FW,MF        Freiburg   28  74.040202  44.878158   \n...                    ...    ...             ...  ...        ...        ...   \n1600       Carlos Vinícius     FW          Fulham   27  77.353618   9.790816   \n1402         Patrik Schick     FW      Leverkusen   27  73.123690   9.146839   \n223           Ante Budimir     FW         Osasuna   31  79.889703   8.319700   \n1070              Rafa Mir     FW         Sevilla   25  72.855671   6.993400   \n1012  Jean-Philippe Mateta     FW  Crystal Palace   25  78.131612   6.661248   \n\n      Value  \n742     1.0  \n1509    1.0  \n1060    1.0  \n1638    1.0  \n703     1.0  \n...     ...  \n1600    1.0  \n1402    1.0  \n223     1.0  \n1070    1.0  \n1012    1.0  \n\n[84 rows x 7 columns]",
      "text/html": "<div>\n<style scoped>\n    .dataframe tbody tr th:only-of-type {\n        vertical-align: middle;\n    }\n\n    .dataframe tbody tr th {\n        vertical-align: top;\n    }\n\n    .dataframe thead th {\n        text-align: right;\n    }\n</style>\n<table border=\"1\" class=\"dataframe\">\n  <thead>\n    <tr style=\"text-align: right;\">\n      <th></th>\n      <th>Player</th>\n      <th>Pos</th>\n      <th>Squad</th>\n      <th>Age</th>\n      <th>Fitness</th>\n      <th>Quality</th>\n      <th>Value</th>\n    </tr>\n  </thead>\n  <tbody>\n    <tr>\n      <th>742</th>\n      <td>Lee Jae-sung</td>\n      <td>MF</td>\n      <td>Mainz 05</td>\n      <td>30</td>\n      <td>70.214432</td>\n      <td>57.570249</td>\n      <td>1.0</td>\n    </tr>\n    <tr>\n      <th>1509</th>\n      <td>Martin Terrier</td>\n      <td>FW,MF</td>\n      <td>Rennes</td>\n      <td>26</td>\n      <td>71.064809</td>\n      <td>55.719133</td>\n      <td>1.0</td>\n    </tr>\n    <tr>\n      <th>1060</th>\n      <td>Arkadiusz Milik</td>\n      <td>FW</td>\n      <td>Juventus</td>\n      <td>29</td>\n      <td>78.085535</td>\n      <td>52.076081</td>\n      <td>1.0</td>\n    </tr>\n    <tr>\n      <th>1638</th>\n      <td>Yoane Wissa</td>\n      <td>FW</td>\n      <td>Brentford</td>\n      <td>26</td>\n      <td>71.146069</td>\n      <td>46.922534</td>\n      <td>1.0</td>\n    </tr>\n    <tr>\n      <th>703</th>\n      <td>Lucas Höler</td>\n      <td>FW,MF</td>\n      <td>Freiburg</td>\n      <td>28</td>\n      <td>74.040202</td>\n      <td>44.878158</td>\n      <td>1.0</td>\n    </tr>\n    <tr>\n      <th>...</th>\n      <td>...</td>\n      <td>...</td>\n      <td>...</td>\n      <td>...</td>\n      <td>...</td>\n      <td>...</td>\n      <td>...</td>\n    </tr>\n    <tr>\n      <th>1600</th>\n      <td>Carlos Vinícius</td>\n      <td>FW</td>\n      <td>Fulham</td>\n      <td>27</td>\n      <td>77.353618</td>\n      <td>9.790816</td>\n      <td>1.0</td>\n    </tr>\n    <tr>\n      <th>1402</th>\n      <td>Patrik Schick</td>\n      <td>FW</td>\n      <td>Leverkusen</td>\n      <td>27</td>\n      <td>73.123690</td>\n      <td>9.146839</td>\n      <td>1.0</td>\n    </tr>\n    <tr>\n      <th>223</th>\n      <td>Ante Budimir</td>\n      <td>FW</td>\n      <td>Osasuna</td>\n      <td>31</td>\n      <td>79.889703</td>\n      <td>8.319700</td>\n      <td>1.0</td>\n    </tr>\n    <tr>\n      <th>1070</th>\n      <td>Rafa Mir</td>\n      <td>FW</td>\n      <td>Sevilla</td>\n      <td>25</td>\n      <td>72.855671</td>\n      <td>6.993400</td>\n      <td>1.0</td>\n    </tr>\n    <tr>\n      <th>1012</th>\n      <td>Jean-Philippe Mateta</td>\n      <td>FW</td>\n      <td>Crystal Palace</td>\n      <td>25</td>\n      <td>78.131612</td>\n      <td>6.661248</td>\n      <td>1.0</td>\n    </tr>\n  </tbody>\n</table>\n<p>84 rows × 7 columns</p>\n</div>"
     },
     "execution_count": 7,
     "metadata": {},
     "output_type": "execute_result"
    }
   ],
   "source": [
    "fpf.scout_player_type(\"TM\",count=10000)"
   ],
   "metadata": {
    "collapsed": false,
    "pycharm": {
     "name": "#%%\n"
    }
   }
  },
  {
   "cell_type": "code",
   "execution_count": 8,
   "outputs": [
    {
     "data": {
      "text/plain": "Player      Patrik Schick\nPos                    FW\nSquad          Leverkusen\nComp           Bundesliga\nAge                    27\n90s                  10.5\nQuality         13.804851\nFit_W           18.081518\nQual_W           9.131194\nFit_NFB         37.231131\nQual_NFB         7.404206\nFit_P           61.733402\nQual_P          10.767565\nFit_IW          39.422396\nQual_IW          6.487734\nFit_BTB         23.372947\nQual_BTB        -1.072737\nFit_WB          44.352482\nQual_WB          6.502537\nFit_LB           0.938081\nQual_LB         22.876117\nFit_AF          54.336185\nQual_AF          8.199492\nFit_S            4.723817\nQual_S          19.342633\nFit_AP          44.243963\nQual_AP          4.264273\nFit_BPD          4.839928\nQual_BPD        14.741022\nFit_MEZ         13.303106\nQual_MEZ         7.699104\nFit_DM          20.309009\nQual_DM          2.435652\nFit_AM           44.61231\nQual_AM          0.578258\nFit_NCB         18.598649\nQual_NCB         20.75498\nFit_FB          26.873329\nQual_FB         11.040172\nFit_IWB         46.602126\nQual_IWB         2.488263\nFit_WP          29.950357\nQual_WP         11.783049\nFit_TM           73.12369\nQual_TM          9.146839\nFit_BWM         36.541425\nQual_BWM        -0.661301\nValue                 1.0\nName: 1402, dtype: object"
     },
     "execution_count": 8,
     "metadata": {},
     "output_type": "execute_result"
    }
   ],
   "source": [
    "scouting.iloc[1402]"
   ],
   "metadata": {
    "collapsed": false,
    "pycharm": {
     "name": "#%%\n"
    }
   }
  },
  {
   "cell_type": "code",
   "execution_count": 9,
   "outputs": [
    {
     "data": {
      "text/plain": "            Player    Pos      Squad     Comp  Age   90s    Quality     Fit_W  \\\n1056  Lionel Messi  FW,MF  Paris S-G  Ligue 1   35  21.5  84.899064  8.876081   \n\n         Qual_W  Fit_NFB  ...    Qual_FB  Fit_IWB   Qual_IWB     Fit_WP  \\\n1056  54.049062      0.0  ...  77.278469      0.0  83.941805  23.030858   \n\n        Qual_WP    Fit_TM    Qual_TM  Fit_BWM   Qual_BWM  Value  \n1056  63.975499  5.509029  43.673443      0.0  72.532916    1.0  \n\n[1 rows x 48 columns]",
      "text/html": "<div>\n<style scoped>\n    .dataframe tbody tr th:only-of-type {\n        vertical-align: middle;\n    }\n\n    .dataframe tbody tr th {\n        vertical-align: top;\n    }\n\n    .dataframe thead th {\n        text-align: right;\n    }\n</style>\n<table border=\"1\" class=\"dataframe\">\n  <thead>\n    <tr style=\"text-align: right;\">\n      <th></th>\n      <th>Player</th>\n      <th>Pos</th>\n      <th>Squad</th>\n      <th>Comp</th>\n      <th>Age</th>\n      <th>90s</th>\n      <th>Quality</th>\n      <th>Fit_W</th>\n      <th>Qual_W</th>\n      <th>Fit_NFB</th>\n      <th>...</th>\n      <th>Qual_FB</th>\n      <th>Fit_IWB</th>\n      <th>Qual_IWB</th>\n      <th>Fit_WP</th>\n      <th>Qual_WP</th>\n      <th>Fit_TM</th>\n      <th>Qual_TM</th>\n      <th>Fit_BWM</th>\n      <th>Qual_BWM</th>\n      <th>Value</th>\n    </tr>\n  </thead>\n  <tbody>\n    <tr>\n      <th>1056</th>\n      <td>Lionel Messi</td>\n      <td>FW,MF</td>\n      <td>Paris S-G</td>\n      <td>Ligue 1</td>\n      <td>35</td>\n      <td>21.5</td>\n      <td>84.899064</td>\n      <td>8.876081</td>\n      <td>54.049062</td>\n      <td>0.0</td>\n      <td>...</td>\n      <td>77.278469</td>\n      <td>0.0</td>\n      <td>83.941805</td>\n      <td>23.030858</td>\n      <td>63.975499</td>\n      <td>5.509029</td>\n      <td>43.673443</td>\n      <td>0.0</td>\n      <td>72.532916</td>\n      <td>1.0</td>\n    </tr>\n  </tbody>\n</table>\n<p>1 rows × 48 columns</p>\n</div>"
     },
     "execution_count": 9,
     "metadata": {},
     "output_type": "execute_result"
    }
   ],
   "source": [
    "scouting.loc[scouting.Player == \"Lionel Messi\"]"
   ],
   "metadata": {
    "collapsed": false,
    "pycharm": {
     "name": "#%%\n"
    }
   }
  },
  {
   "cell_type": "code",
   "execution_count": null,
   "outputs": [],
   "source": [],
   "metadata": {
    "collapsed": false,
    "pycharm": {
     "name": "#%%\n"
    }
   }
  }
 ],
 "metadata": {
  "kernelspec": {
   "display_name": "Python 3",
   "language": "python",
   "name": "python3"
  },
  "language_info": {
   "codemirror_mode": {
    "name": "ipython",
    "version": 2
   },
   "file_extension": ".py",
   "mimetype": "text/x-python",
   "name": "python",
   "nbconvert_exporter": "python",
   "pygments_lexer": "ipython2",
   "version": "2.7.6"
  }
 },
 "nbformat": 4,
 "nbformat_minor": 0
}